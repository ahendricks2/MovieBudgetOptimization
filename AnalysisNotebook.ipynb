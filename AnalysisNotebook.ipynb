{
 "cells": [
  {
   "cell_type": "markdown",
   "metadata": {},
   "source": [
    "# Analysis Notebook\n"
   ]
  },
  {
   "cell_type": "markdown",
   "metadata": {},
   "source": [
    "## 1. Loading Data and Converting Data Types"
   ]
  },
  {
   "cell_type": "code",
   "execution_count": 2,
   "metadata": {},
   "outputs": [],
   "source": [
    "# Your code here - remember to use markdown cells for comments as well!\n",
    "import pandas as pd\n",
    "import sqlite3\n",
    "import seaborn as sns\n",
    "import matplotlib.pyplot as plt\n",
    "import scipy.stats as stats\n",
    "import statsmodels.api as sm\n",
    "from statsmodels.formula.api import ols"
   ]
  },
  {
   "cell_type": "code",
   "execution_count": 3,
   "metadata": {},
   "outputs": [],
   "source": [
    "budgetsdf = pd.read_csv('Data/tn.movie_budgets.csv')"
   ]
  },
  {
   "cell_type": "code",
   "execution_count": 4,
   "metadata": {},
   "outputs": [],
   "source": [
    "imdbconn = sqlite3.connect('Data/im.db')"
   ]
  },
  {
   "cell_type": "code",
   "execution_count": 5,
   "metadata": {},
   "outputs": [],
   "source": [
    "df = budgetsdf.copy()"
   ]
  },
  {
   "cell_type": "code",
   "execution_count": 6,
   "metadata": {},
   "outputs": [],
   "source": [
    "df['worldwide_gross'] = df['worldwide_gross'].apply(lambda x: x.replace('$', '').replace(',', ''))\n",
    "df['domestic_gross'] = df['domestic_gross'].apply(lambda x: x.replace('$', '').replace(',', ''))\n",
    "df['production_budget'] = df['production_budget'].apply(lambda x: x.replace('$', '').replace(',', ''))"
   ]
  },
  {
   "cell_type": "code",
   "execution_count": 7,
   "metadata": {},
   "outputs": [],
   "source": [
    "df['worldwide_gross'] = df['worldwide_gross'].astype(float)\n",
    "df['domestic_gross'] = df['domestic_gross'].astype(float)\n",
    "df['production_budget'] = df['production_budget'].astype(float)"
   ]
  },
  {
   "cell_type": "markdown",
   "metadata": {},
   "source": [
    "## 2. Calculating Gross to Budget Ratio, Assigning Categories, and Calculating Odds of Success"
   ]
  },
  {
   "cell_type": "code",
   "execution_count": 8,
   "metadata": {},
   "outputs": [],
   "source": [
    "df['gtbratio'] = df['worldwide_gross']/df['production_budget']"
   ]
  },
  {
   "cell_type": "code",
   "execution_count": 9,
   "metadata": {},
   "outputs": [],
   "source": [
    "# Source for Category Parameters = https://www.studiobinder.com/blog/production-budget/#:~:text=Film%20Budget%20Examples,-Low%2Dend%20movie&text=There's%20some%20conjecture%20as%20to,(2007)%20%E2%80%93%20Budget%3A%20%247%2C000\n",
    "\n",
    "df['budgetcat'] = ['low' if x < 5000000 else 'mid' if x < 50000000 else 'high' for x in df['production_budget']]"
   ]
  },
  {
   "cell_type": "code",
   "execution_count": 10,
   "metadata": {},
   "outputs": [
    {
     "data": {
      "text/plain": [
       "(5782, 8)"
      ]
     },
     "execution_count": 10,
     "metadata": {},
     "output_type": "execute_result"
    }
   ],
   "source": [
    "df.shape"
   ]
  },
  {
   "cell_type": "code",
   "execution_count": 9,
   "metadata": {},
   "outputs": [
    {
     "data": {
      "text/plain": [
       "mid     3192\n",
       "low     1382\n",
       "high    1208\n",
       "Name: budgetcat, dtype: int64"
      ]
     },
     "execution_count": 9,
     "metadata": {},
     "output_type": "execute_result"
    }
   ],
   "source": [
    "df['budgetcat'].value_counts()"
   ]
  },
  {
   "cell_type": "code",
   "execution_count": 10,
   "metadata": {},
   "outputs": [],
   "source": [
    "# Assigning value counts to variables\n",
    "\n",
    "mid = 3192\n",
    "low = 1382\n",
    "high = 1208"
   ]
  },
  {
   "cell_type": "code",
   "execution_count": 11,
   "metadata": {},
   "outputs": [],
   "source": [
    "#Source1 for Profitability Parameters: https://gizmodo.com/how-much-money-does-a-movie-need-to-make-to-be-profitab-5747305\n",
    "#Source2 for Profitability Parameters: https://www.reddit.com/r/movies/comments/14e9irm/at_what_profit_margin_does_a_movie_become_worth_it/#:~:text=The%20rule%20of%20thumb%20often,order%20to%20turn%20a%20profit.\n",
    "\n",
    "df['profitability'] = df['worldwide_gross']-(df['production_budget']*2)"
   ]
  },
  {
   "cell_type": "code",
   "execution_count": 12,
   "metadata": {},
   "outputs": [],
   "source": [
    "df['success'] = ['no' if x < 0 else 'yes' for x in df['profitability']]"
   ]
  },
  {
   "cell_type": "code",
   "execution_count": 13,
   "metadata": {},
   "outputs": [
    {
     "data": {
      "text/plain": [
       "mid     1423\n",
       "high     671\n",
       "low      527\n",
       "Name: budgetcat, dtype: int64"
      ]
     },
     "execution_count": 13,
     "metadata": {},
     "output_type": "execute_result"
    }
   ],
   "source": [
    "onlysuccessesdf = df.loc[df['success'] == 'yes']\n",
    "onlysuccessesdf['budgetcat'].value_counts()"
   ]
  },
  {
   "cell_type": "code",
   "execution_count": 14,
   "metadata": {},
   "outputs": [],
   "source": [
    "# Calculating Odds of Success\n",
    "\n",
    "lowbudgetodds = 527/low\n",
    "midbudgetodds = 1423/mid\n",
    "highbudgetodds = 671/high"
   ]
  },
  {
   "cell_type": "code",
   "execution_count": 15,
   "metadata": {},
   "outputs": [
    {
     "name": "stdout",
     "output_type": "stream",
     "text": [
      "0.38133140376266283\n",
      "0.4458020050125313\n",
      "0.5554635761589404\n"
     ]
    }
   ],
   "source": [
    "print(lowbudgetodds)\n",
    "print(midbudgetodds)\n",
    "print(highbudgetodds)"
   ]
  },
  {
   "cell_type": "markdown",
   "metadata": {},
   "source": [
    "## 3. Evaluating the Statistical Significance of the Relationship Between Budget Categories and Profitability Metrics"
   ]
  },
  {
   "cell_type": "markdown",
   "metadata": {},
   "source": [
    "### 3a. Evaluating the Relationship Between Production Budget and Worldwide Gross"
   ]
  },
  {
   "cell_type": "markdown",
   "metadata": {},
   "source": [
    "Is there a statistically significant relationship between production budget and worldwide gross?\n",
    "\n",
    "H0: The null hypothesis is that there is no statistically significant relationship between production budget and worldwide gross.\n",
    "\n",
    "H1: The alternative hypothesis is that there is a statistically significant relationship between production budget and worldwide gross.\n",
    "\n",
    "We are willing to reject the null hypothesis if we achieve a certainty level of at least 95%."
   ]
  },
  {
   "cell_type": "code",
   "execution_count": 16,
   "metadata": {},
   "outputs": [
    {
     "data": {
      "text/plain": [
       "(0.7483059765694755, 0.0)"
      ]
     },
     "execution_count": 16,
     "metadata": {},
     "output_type": "execute_result"
    }
   ],
   "source": [
    "stats.pearsonr(df['production_budget'], df['worldwide_gross'])"
   ]
  },
  {
   "cell_type": "markdown",
   "metadata": {},
   "source": [
    "Because the P-value is below .05, we are willing to reject the null hypothesis with 95% confidence.\n",
    "\n",
    "The Pearson correlation coefficient of .75 shows that there is a substantial positive correlation between production budget and worldwide gross."
   ]
  },
  {
   "cell_type": "code",
   "execution_count": 17,
   "metadata": {},
   "outputs": [
    {
     "data": {
      "image/png": "[encoded data removed]",
      "text/plain": [
       "<Figure size 432x288 with 1 Axes>"
      ]
     },
     "metadata": {
      "needs_background": "light"
     },
     "output_type": "display_data"
    }
   ],
   "source": [
    "sns.scatterplot(x=df['production_budget'], y=df['worldwide_gross']);"
   ]
  },
  {
   "cell_type": "markdown",
   "metadata": {},
   "source": [
    "### 3b. Evaluating the Relationship between Production Budget and Gross to Budget Ratio"
   ]
  },
  {
   "cell_type": "markdown",
   "metadata": {},
   "source": [
    "Is there a statistically significant relationship between production budget and gross to budget ratio?\n",
    "\n",
    "H0: The null hypothesis is that there is no statistically significant relationship between production budget and gross to budget ratio.\n",
    "\n",
    "H1: The alternative hypothesis is that there is a statistically significant relationship between production budget and gross to budget ratio.\n",
    "\n",
    "We are willing to reject the null hypothesis if we achieve a certainty level of at least 95%."
   ]
  },
  {
   "cell_type": "code",
   "execution_count": 18,
   "metadata": {},
   "outputs": [
    {
     "data": {
      "text/plain": [
       "(-0.04871481362951173, 0.0002108514213067043)"
      ]
     },
     "execution_count": 18,
     "metadata": {},
     "output_type": "execute_result"
    }
   ],
   "source": [
    "stats.pearsonr(df['production_budget'], df['gtbratio'])"
   ]
  },
  {
   "cell_type": "markdown",
   "metadata": {},
   "source": [
    "Because the P-value is below .05, we are willing to reject the null hypothesis with 95% confidence.\n",
    "\n",
    "The Pearson correlation coefficient of -.04 shows that there is a almost no correlation between production budget and gross to budget ratio."
   ]
  },
  {
   "cell_type": "code",
   "execution_count": 19,
   "metadata": {},
   "outputs": [
    {
     "data": {
      "image/png": "[encoded data removed]",
      "text/plain": [
       "<Figure size 432x288 with 1 Axes>"
      ]
     },
     "metadata": {
      "needs_background": "light"
     },
     "output_type": "display_data"
    }
   ],
   "source": [
    "sns.scatterplot(x=df['production_budget'], y=df['gtbratio']);"
   ]
  },
  {
   "cell_type": "markdown",
   "metadata": {},
   "source": [
    "The scatterplot shows us that while there is virtually no linear correlation between production budget and gross to budget ratio, the strongest outcomes for gross to budget ratio tend to come with movies with the lowest budgets."
   ]
  },
  {
   "cell_type": "markdown",
   "metadata": {},
   "source": [
    "### 3c. Evaluating the Relationship Between Budget Category and Achieving Success (Gross >= Two Times Budget)"
   ]
  },
  {
   "cell_type": "markdown",
   "metadata": {},
   "source": [
    "Is there a statistically significant relationship between production budget and success?\n",
    "\n",
    "H0: The null hypothesis is that there is no statistically significant relationship between production budget and success.\n",
    "\n",
    "H1: The alternative hypothesis is that there is a statistically significant relationship between production budget and success.\n",
    "\n",
    "We are willing to reject the null hypothesis if we achieve a certainty level of at least 95%."
   ]
  },
  {
   "cell_type": "code",
   "execution_count": 20,
   "metadata": {},
   "outputs": [
    {
     "data": {
      "text/plain": [
       "(80.485492873084,\n",
       " 3.332708168714908e-18,\n",
       " 2,\n",
       " array([[ 660.40954687,  547.59045313],\n",
       "        [ 755.53476306,  626.46523694],\n",
       "        [1745.05569007, 1446.94430993]]))"
      ]
     },
     "execution_count": 20,
     "metadata": {},
     "output_type": "execute_result"
    }
   ],
   "source": [
    "contingency_table=pd.crosstab(index=df['budgetcat'],columns=df['success'])\n",
    "stats.contingency.chi2_contingency(contingency_table)"
   ]
  },
  {
   "cell_type": "markdown",
   "metadata": {},
   "source": [
    "Because the P-value is below .05, we are willing to reject the null hypothesis with 95% confidence."
   ]
  },
  {
   "cell_type": "markdown",
   "metadata": {},
   "source": [
    "### 3d. Evaluating the Relationship Between Budget Category and Gross to Budget Ratio"
   ]
  },
  {
   "cell_type": "markdown",
   "metadata": {},
   "source": [
    "Is there a statistically significant relationship between budget category and gross to budget ratio?\n",
    "\n",
    "H0: The null hypothesis is that there is no statistically significant relationship between budget category and gross to budget ratio.\n",
    "\n",
    "H1: The alternative hypothesis is that there is a statistically significant relationship between budget category and gross to budget ratio.\n",
    "\n",
    "We are willing to reject the null hypothesis if we achieve a certainty level of at least 95%."
   ]
  },
  {
   "cell_type": "code",
   "execution_count": 21,
   "metadata": {},
   "outputs": [],
   "source": [
    "model = ols('gtbratio ~ budgetcat', data = df).fit()"
   ]
  },
  {
   "cell_type": "code",
   "execution_count": 22,
   "metadata": {},
   "outputs": [],
   "source": [
    "anova_table = sm.stats.anova_lm(model, typ=2)"
   ]
  },
  {
   "cell_type": "code",
   "execution_count": 23,
   "metadata": {},
   "outputs": [
    {
     "name": "stdout",
     "output_type": "stream",
     "text": [
      "                 sum_sq      df          F        PR(>F)\n",
      "budgetcat  5.771150e+04     2.0  33.461644  3.558714e-15\n",
      "Residual   4.983538e+06  5779.0        NaN           NaN\n"
     ]
    }
   ],
   "source": [
    "print(anova_table)"
   ]
  },
  {
   "cell_type": "markdown",
   "metadata": {},
   "source": [
    "Because the P-value is below .05, we are willing to reject the null hypothesis with 95% confidence."
   ]
  },
  {
   "cell_type": "markdown",
   "metadata": {},
   "source": [
    "## 4. Determining Median and Mean Outcomes for Budget Categories"
   ]
  },
  {
   "cell_type": "code",
   "execution_count": 24,
   "metadata": {},
   "outputs": [
    {
     "data": {
      "text/html": [
       "<div>\n",
       "<style scoped>\n",
       "    .dataframe tbody tr th:only-of-type {\n",
       "        vertical-align: middle;\n",
       "    }\n",
       "\n",
       "    .dataframe tbody tr th {\n",
       "        vertical-align: top;\n",
       "    }\n",
       "\n",
       "    .dataframe thead th {\n",
       "        text-align: right;\n",
       "    }\n",
       "</style>\n",
       "<table border=\"1\" class=\"dataframe\">\n",
       "  <thead>\n",
       "    <tr style=\"text-align: right;\">\n",
       "      <th></th>\n",
       "      <th>id</th>\n",
       "      <th>production_budget</th>\n",
       "      <th>domestic_gross</th>\n",
       "      <th>worldwide_gross</th>\n",
       "      <th>gtbratio</th>\n",
       "      <th>profitability</th>\n",
       "    </tr>\n",
       "    <tr>\n",
       "      <th>budgetcat</th>\n",
       "      <th></th>\n",
       "      <th></th>\n",
       "      <th></th>\n",
       "      <th></th>\n",
       "      <th></th>\n",
       "      <th></th>\n",
       "    </tr>\n",
       "  </thead>\n",
       "  <tbody>\n",
       "    <tr>\n",
       "      <th>high</th>\n",
       "      <td>50</td>\n",
       "      <td>80000000.0</td>\n",
       "      <td>78368442.5</td>\n",
       "      <td>184531488.0</td>\n",
       "      <td>2.227965</td>\n",
       "      <td>18902171.5</td>\n",
       "    </tr>\n",
       "    <tr>\n",
       "      <th>low</th>\n",
       "      <td>50</td>\n",
       "      <td>1500000.0</td>\n",
       "      <td>320090.5</td>\n",
       "      <td>840535.5</td>\n",
       "      <td>0.775750</td>\n",
       "      <td>-500000.0</td>\n",
       "    </tr>\n",
       "    <tr>\n",
       "      <th>mid</th>\n",
       "      <td>51</td>\n",
       "      <td>18000000.0</td>\n",
       "      <td>17979374.0</td>\n",
       "      <td>29876723.0</td>\n",
       "      <td>1.676872</td>\n",
       "      <td>-5109779.0</td>\n",
       "    </tr>\n",
       "  </tbody>\n",
       "</table>\n",
       "</div>"
      ],
      "text/plain": [
       "           id  production_budget  domestic_gross  worldwide_gross  gtbratio  \\\n",
       "budgetcat                                                                     \n",
       "high       50         80000000.0      78368442.5      184531488.0  2.227965   \n",
       "low        50          1500000.0        320090.5         840535.5  0.775750   \n",
       "mid        51         18000000.0      17979374.0       29876723.0  1.676872   \n",
       "\n",
       "           profitability  \n",
       "budgetcat                 \n",
       "high          18902171.5  \n",
       "low            -500000.0  \n",
       "mid           -5109779.0  "
      ]
     },
     "execution_count": 24,
     "metadata": {},
     "output_type": "execute_result"
    }
   ],
   "source": [
    "# Overall Median Outcome for Each Budget Category\n",
    "\n",
    "df.groupby(by='budgetcat').median()"
   ]
  },
  {
   "cell_type": "code",
   "execution_count": 25,
   "metadata": {},
   "outputs": [
    {
     "data": {
      "text/html": [
       "<div>\n",
       "<style scoped>\n",
       "    .dataframe tbody tr th:only-of-type {\n",
       "        vertical-align: middle;\n",
       "    }\n",
       "\n",
       "    .dataframe tbody tr th {\n",
       "        vertical-align: top;\n",
       "    }\n",
       "\n",
       "    .dataframe thead th {\n",
       "        text-align: right;\n",
       "    }\n",
       "</style>\n",
       "<table border=\"1\" class=\"dataframe\">\n",
       "  <thead>\n",
       "    <tr style=\"text-align: right;\">\n",
       "      <th></th>\n",
       "      <th>id</th>\n",
       "      <th>production_budget</th>\n",
       "      <th>domestic_gross</th>\n",
       "      <th>worldwide_gross</th>\n",
       "      <th>gtbratio</th>\n",
       "      <th>profitability</th>\n",
       "    </tr>\n",
       "    <tr>\n",
       "      <th>budgetcat</th>\n",
       "      <th></th>\n",
       "      <th></th>\n",
       "      <th></th>\n",
       "      <th></th>\n",
       "      <th></th>\n",
       "      <th></th>\n",
       "    </tr>\n",
       "  </thead>\n",
       "  <tbody>\n",
       "    <tr>\n",
       "      <th>high</th>\n",
       "      <td>50.195364</td>\n",
       "      <td>9.562994e+07</td>\n",
       "      <td>1.106004e+08</td>\n",
       "      <td>2.778329e+08</td>\n",
       "      <td>2.741431</td>\n",
       "      <td>8.657302e+07</td>\n",
       "    </tr>\n",
       "    <tr>\n",
       "      <th>low</th>\n",
       "      <td>49.965991</td>\n",
       "      <td>1.785378e+06</td>\n",
       "      <td>6.066987e+06</td>\n",
       "      <td>9.496835e+06</td>\n",
       "      <td>10.430517</td>\n",
       "      <td>5.926079e+06</td>\n",
       "    </tr>\n",
       "    <tr>\n",
       "      <th>mid</th>\n",
       "      <td>50.615288</td>\n",
       "      <td>2.025440e+07</td>\n",
       "      <td>3.136647e+07</td>\n",
       "      <td>5.646421e+07</td>\n",
       "      <td>3.141576</td>\n",
       "      <td>1.595540e+07</td>\n",
       "    </tr>\n",
       "  </tbody>\n",
       "</table>\n",
       "</div>"
      ],
      "text/plain": [
       "                  id  production_budget  domestic_gross  worldwide_gross  \\\n",
       "budgetcat                                                                  \n",
       "high       50.195364       9.562994e+07    1.106004e+08     2.778329e+08   \n",
       "low        49.965991       1.785378e+06    6.066987e+06     9.496835e+06   \n",
       "mid        50.615288       2.025440e+07    3.136647e+07     5.646421e+07   \n",
       "\n",
       "            gtbratio  profitability  \n",
       "budgetcat                            \n",
       "high        2.741431   8.657302e+07  \n",
       "low        10.430517   5.926079e+06  \n",
       "mid         3.141576   1.595540e+07  "
      ]
     },
     "execution_count": 25,
     "metadata": {},
     "output_type": "execute_result"
    }
   ],
   "source": [
    "# Overall Mean Outcome for Each Budget Category\n",
    "\n",
    "df.groupby(by='budgetcat').mean()"
   ]
  },
  {
   "cell_type": "code",
   "execution_count": 26,
   "metadata": {},
   "outputs": [
    {
     "data": {
      "text/html": [
       "<div>\n",
       "<style scoped>\n",
       "    .dataframe tbody tr th:only-of-type {\n",
       "        vertical-align: middle;\n",
       "    }\n",
       "\n",
       "    .dataframe tbody tr th {\n",
       "        vertical-align: top;\n",
       "    }\n",
       "\n",
       "    .dataframe thead th {\n",
       "        text-align: right;\n",
       "    }\n",
       "</style>\n",
       "<table border=\"1\" class=\"dataframe\">\n",
       "  <thead>\n",
       "    <tr style=\"text-align: right;\">\n",
       "      <th></th>\n",
       "      <th>id</th>\n",
       "      <th>production_budget</th>\n",
       "      <th>domestic_gross</th>\n",
       "      <th>worldwide_gross</th>\n",
       "      <th>gtbratio</th>\n",
       "      <th>profitability</th>\n",
       "    </tr>\n",
       "    <tr>\n",
       "      <th>budgetcat</th>\n",
       "      <th></th>\n",
       "      <th></th>\n",
       "      <th></th>\n",
       "      <th></th>\n",
       "      <th></th>\n",
       "      <th></th>\n",
       "    </tr>\n",
       "  </thead>\n",
       "  <tbody>\n",
       "    <tr>\n",
       "      <th>high</th>\n",
       "      <td>52</td>\n",
       "      <td>85000000.0</td>\n",
       "      <td>130319208.0</td>\n",
       "      <td>328325007.0</td>\n",
       "      <td>3.415718</td>\n",
       "      <td>125500000.0</td>\n",
       "    </tr>\n",
       "    <tr>\n",
       "      <th>low</th>\n",
       "      <td>49</td>\n",
       "      <td>1700000.0</td>\n",
       "      <td>7282851.0</td>\n",
       "      <td>10941801.0</td>\n",
       "      <td>7.791578</td>\n",
       "      <td>6577401.0</td>\n",
       "    </tr>\n",
       "    <tr>\n",
       "      <th>mid</th>\n",
       "      <td>55</td>\n",
       "      <td>18000000.0</td>\n",
       "      <td>43853424.0</td>\n",
       "      <td>79114085.0</td>\n",
       "      <td>3.954347</td>\n",
       "      <td>33954968.0</td>\n",
       "    </tr>\n",
       "  </tbody>\n",
       "</table>\n",
       "</div>"
      ],
      "text/plain": [
       "           id  production_budget  domestic_gross  worldwide_gross  gtbratio  \\\n",
       "budgetcat                                                                     \n",
       "high       52         85000000.0     130319208.0      328325007.0  3.415718   \n",
       "low        49          1700000.0       7282851.0       10941801.0  7.791578   \n",
       "mid        55         18000000.0      43853424.0       79114085.0  3.954347   \n",
       "\n",
       "           profitability  \n",
       "budgetcat                 \n",
       "high         125500000.0  \n",
       "low            6577401.0  \n",
       "mid           33954968.0  "
      ]
     },
     "execution_count": 26,
     "metadata": {},
     "output_type": "execute_result"
    }
   ],
   "source": [
    "# Median Outcome for Each Budget Category Given Gross at Least Doubles Budget\n",
    "\n",
    "onlysuccessesdf.groupby(by='budgetcat').median()"
   ]
  },
  {
   "cell_type": "code",
   "execution_count": 27,
   "metadata": {},
   "outputs": [
    {
     "data": {
      "text/html": [
       "<div>\n",
       "<style scoped>\n",
       "    .dataframe tbody tr th:only-of-type {\n",
       "        vertical-align: middle;\n",
       "    }\n",
       "\n",
       "    .dataframe tbody tr th {\n",
       "        vertical-align: top;\n",
       "    }\n",
       "\n",
       "    .dataframe thead th {\n",
       "        text-align: right;\n",
       "    }\n",
       "</style>\n",
       "<table border=\"1\" class=\"dataframe\">\n",
       "  <thead>\n",
       "    <tr style=\"text-align: right;\">\n",
       "      <th></th>\n",
       "      <th>id</th>\n",
       "      <th>production_budget</th>\n",
       "      <th>domestic_gross</th>\n",
       "      <th>worldwide_gross</th>\n",
       "      <th>gtbratio</th>\n",
       "      <th>profitability</th>\n",
       "    </tr>\n",
       "    <tr>\n",
       "      <th>budgetcat</th>\n",
       "      <th></th>\n",
       "      <th></th>\n",
       "      <th></th>\n",
       "      <th></th>\n",
       "      <th></th>\n",
       "      <th></th>\n",
       "    </tr>\n",
       "  </thead>\n",
       "  <tbody>\n",
       "    <tr>\n",
       "      <th>high</th>\n",
       "      <td>51.122206</td>\n",
       "      <td>1.045461e+08</td>\n",
       "      <td>1.631326e+08</td>\n",
       "      <td>4.231247e+08</td>\n",
       "      <td>4.070075</td>\n",
       "      <td>2.140324e+08</td>\n",
       "    </tr>\n",
       "    <tr>\n",
       "      <th>low</th>\n",
       "      <td>49.897533</td>\n",
       "      <td>1.866877e+06</td>\n",
       "      <td>1.519655e+07</td>\n",
       "      <td>2.375082e+07</td>\n",
       "      <td>26.800612</td>\n",
       "      <td>2.001707e+07</td>\n",
       "    </tr>\n",
       "    <tr>\n",
       "      <th>mid</th>\n",
       "      <td>52.872101</td>\n",
       "      <td>2.004222e+07</td>\n",
       "      <td>5.640001e+07</td>\n",
       "      <td>1.056163e+08</td>\n",
       "      <td>6.097461</td>\n",
       "      <td>6.553190e+07</td>\n",
       "    </tr>\n",
       "  </tbody>\n",
       "</table>\n",
       "</div>"
      ],
      "text/plain": [
       "                  id  production_budget  domestic_gross  worldwide_gross  \\\n",
       "budgetcat                                                                  \n",
       "high       51.122206       1.045461e+08    1.631326e+08     4.231247e+08   \n",
       "low        49.897533       1.866877e+06    1.519655e+07     2.375082e+07   \n",
       "mid        52.872101       2.004222e+07    5.640001e+07     1.056163e+08   \n",
       "\n",
       "            gtbratio  profitability  \n",
       "budgetcat                            \n",
       "high        4.070075   2.140324e+08  \n",
       "low        26.800612   2.001707e+07  \n",
       "mid         6.097461   6.553190e+07  "
      ]
     },
     "execution_count": 27,
     "metadata": {},
     "output_type": "execute_result"
    }
   ],
   "source": [
    "# Mean Outcome for Each Budget Category Given Gross At Least Doubles Budget\n",
    "\n",
    "onlysuccessesdf.groupby(by='budgetcat').mean()"
   ]
  },
  {
   "cell_type": "code",
   "execution_count": 28,
   "metadata": {},
   "outputs": [
    {
     "data": {
      "text/html": [
       "<div>\n",
       "<style scoped>\n",
       "    .dataframe tbody tr th:only-of-type {\n",
       "        vertical-align: middle;\n",
       "    }\n",
       "\n",
       "    .dataframe tbody tr th {\n",
       "        vertical-align: top;\n",
       "    }\n",
       "\n",
       "    .dataframe thead th {\n",
       "        text-align: right;\n",
       "    }\n",
       "</style>\n",
       "<table border=\"1\" class=\"dataframe\">\n",
       "  <thead>\n",
       "    <tr style=\"text-align: right;\">\n",
       "      <th></th>\n",
       "      <th>id</th>\n",
       "      <th>production_budget</th>\n",
       "      <th>domestic_gross</th>\n",
       "      <th>worldwide_gross</th>\n",
       "      <th>gtbratio</th>\n",
       "      <th>profitability</th>\n",
       "    </tr>\n",
       "    <tr>\n",
       "      <th>budgetcat</th>\n",
       "      <th></th>\n",
       "      <th></th>\n",
       "      <th></th>\n",
       "      <th></th>\n",
       "      <th></th>\n",
       "      <th></th>\n",
       "    </tr>\n",
       "  </thead>\n",
       "  <tbody>\n",
       "    <tr>\n",
       "      <th>high</th>\n",
       "      <td>47</td>\n",
       "      <td>70000000.0</td>\n",
       "      <td>38577772.0</td>\n",
       "      <td>78481410.0</td>\n",
       "      <td>1.094715</td>\n",
       "      <td>-65634502.0</td>\n",
       "    </tr>\n",
       "    <tr>\n",
       "      <th>low</th>\n",
       "      <td>50</td>\n",
       "      <td>1400000.0</td>\n",
       "      <td>15030.0</td>\n",
       "      <td>41914.0</td>\n",
       "      <td>0.046394</td>\n",
       "      <td>-1999297.0</td>\n",
       "    </tr>\n",
       "    <tr>\n",
       "      <th>mid</th>\n",
       "      <td>47</td>\n",
       "      <td>18000000.0</td>\n",
       "      <td>6800000.0</td>\n",
       "      <td>11367029.0</td>\n",
       "      <td>0.669099</td>\n",
       "      <td>-19189806.0</td>\n",
       "    </tr>\n",
       "  </tbody>\n",
       "</table>\n",
       "</div>"
      ],
      "text/plain": [
       "           id  production_budget  domestic_gross  worldwide_gross  gtbratio  \\\n",
       "budgetcat                                                                     \n",
       "high       47         70000000.0      38577772.0       78481410.0  1.094715   \n",
       "low        50          1400000.0         15030.0          41914.0  0.046394   \n",
       "mid        47         18000000.0       6800000.0       11367029.0  0.669099   \n",
       "\n",
       "           profitability  \n",
       "budgetcat                 \n",
       "high         -65634502.0  \n",
       "low           -1999297.0  \n",
       "mid          -19189806.0  "
      ]
     },
     "execution_count": 28,
     "metadata": {},
     "output_type": "execute_result"
    }
   ],
   "source": [
    "# Median Outcome for Each Budget Category Given Gross Does Not Double Budget\n",
    "\n",
    "onlyfailuresdf = df.loc[df['success'] == 'no']\n",
    "onlyfailuresdf.groupby(by='budgetcat').median()"
   ]
  },
  {
   "cell_type": "code",
   "execution_count": 29,
   "metadata": {},
   "outputs": [
    {
     "data": {
      "text/html": [
       "<div>\n",
       "<style scoped>\n",
       "    .dataframe tbody tr th:only-of-type {\n",
       "        vertical-align: middle;\n",
       "    }\n",
       "\n",
       "    .dataframe tbody tr th {\n",
       "        vertical-align: top;\n",
       "    }\n",
       "\n",
       "    .dataframe thead th {\n",
       "        text-align: right;\n",
       "    }\n",
       "</style>\n",
       "<table border=\"1\" class=\"dataframe\">\n",
       "  <thead>\n",
       "    <tr style=\"text-align: right;\">\n",
       "      <th></th>\n",
       "      <th>id</th>\n",
       "      <th>production_budget</th>\n",
       "      <th>domestic_gross</th>\n",
       "      <th>worldwide_gross</th>\n",
       "      <th>gtbratio</th>\n",
       "      <th>profitability</th>\n",
       "    </tr>\n",
       "    <tr>\n",
       "      <th>budgetcat</th>\n",
       "      <th></th>\n",
       "      <th></th>\n",
       "      <th></th>\n",
       "      <th></th>\n",
       "      <th></th>\n",
       "      <th></th>\n",
       "    </tr>\n",
       "  </thead>\n",
       "  <tbody>\n",
       "    <tr>\n",
       "      <th>high</th>\n",
       "      <td>49.037244</td>\n",
       "      <td>8.448883e+07</td>\n",
       "      <td>4.495952e+07</td>\n",
       "      <td>9.628573e+07</td>\n",
       "      <td>1.081244</td>\n",
       "      <td>-7.269193e+07</td>\n",
       "    </tr>\n",
       "    <tr>\n",
       "      <th>low</th>\n",
       "      <td>50.008187</td>\n",
       "      <td>1.735144e+06</td>\n",
       "      <td>4.397615e+05</td>\n",
       "      <td>7.110437e+05</td>\n",
       "      <td>0.340412</td>\n",
       "      <td>-2.759244e+06</td>\n",
       "    </tr>\n",
       "    <tr>\n",
       "      <th>mid</th>\n",
       "      <td>48.799887</td>\n",
       "      <td>2.042508e+07</td>\n",
       "      <td>1.122925e+07</td>\n",
       "      <td>1.692577e+07</td>\n",
       "      <td>0.763834</td>\n",
       "      <td>-2.392440e+07</td>\n",
       "    </tr>\n",
       "  </tbody>\n",
       "</table>\n",
       "</div>"
      ],
      "text/plain": [
       "                  id  production_budget  domestic_gross  worldwide_gross  \\\n",
       "budgetcat                                                                  \n",
       "high       49.037244       8.448883e+07    4.495952e+07     9.628573e+07   \n",
       "low        50.008187       1.735144e+06    4.397615e+05     7.110437e+05   \n",
       "mid        48.799887       2.042508e+07    1.122925e+07     1.692577e+07   \n",
       "\n",
       "           gtbratio  profitability  \n",
       "budgetcat                           \n",
       "high       1.081244  -7.269193e+07  \n",
       "low        0.340412  -2.759244e+06  \n",
       "mid        0.763834  -2.392440e+07  "
      ]
     },
     "execution_count": 29,
     "metadata": {},
     "output_type": "execute_result"
    }
   ],
   "source": [
    "# Mean Outcome for Each Budget Category Given Gross Does Not Double Budget\n",
    "\n",
    "onlyfailuresdf = df.loc[df['success'] == 'no']\n",
    "onlyfailuresdf.groupby(by='budgetcat').mean()"
   ]
  },
  {
   "cell_type": "markdown",
   "metadata": {},
   "source": [
    "## 5. Analyzing the Relationship Between Genre and Profitability in Low Budget Films"
   ]
  },
  {
   "cell_type": "code",
   "execution_count": 30,
   "metadata": {},
   "outputs": [],
   "source": [
    "lowdf = df.loc[df['budgetcat'] == 'low']"
   ]
  },
  {
   "cell_type": "code",
   "execution_count": 31,
   "metadata": {},
   "outputs": [],
   "source": [
    "genres1 = pd.read_sql(\"\"\"\n",
    "SELECT primary_title, genres\n",
    "FROM movie_basics\n",
    ";\n",
    "\"\"\", imdbconn)"
   ]
  },
  {
   "cell_type": "code",
   "execution_count": 32,
   "metadata": {},
   "outputs": [],
   "source": [
    "genres1df = lowdf.merge(genres1, left_on='movie', right_on='primary_title', how='inner')"
   ]
  },
  {
   "cell_type": "code",
   "execution_count": 33,
   "metadata": {},
   "outputs": [],
   "source": [
    "genres1clean = genres1df.dropna(subset=['genres'])"
   ]
  },
  {
   "cell_type": "code",
   "execution_count": 34,
   "metadata": {},
   "outputs": [
    {
     "data": {
      "text/html": [
       "<div>\n",
       "<style scoped>\n",
       "    .dataframe tbody tr th:only-of-type {\n",
       "        vertical-align: middle;\n",
       "    }\n",
       "\n",
       "    .dataframe tbody tr th {\n",
       "        vertical-align: top;\n",
       "    }\n",
       "\n",
       "    .dataframe thead th {\n",
       "        text-align: right;\n",
       "    }\n",
       "</style>\n",
       "<table border=\"1\" class=\"dataframe\">\n",
       "  <thead>\n",
       "    <tr style=\"text-align: right;\">\n",
       "      <th></th>\n",
       "      <th>id</th>\n",
       "      <th>release_date</th>\n",
       "      <th>movie</th>\n",
       "      <th>production_budget</th>\n",
       "      <th>domestic_gross</th>\n",
       "      <th>worldwide_gross</th>\n",
       "      <th>gtbratio</th>\n",
       "      <th>budgetcat</th>\n",
       "      <th>profitability</th>\n",
       "      <th>success</th>\n",
       "      <th>primary_title</th>\n",
       "      <th>genres</th>\n",
       "    </tr>\n",
       "  </thead>\n",
       "  <tbody>\n",
       "    <tr>\n",
       "      <th>0</th>\n",
       "      <td>1</td>\n",
       "      <td>23-Jan-15</td>\n",
       "      <td>Mommy</td>\n",
       "      <td>4900000.0</td>\n",
       "      <td>3498695.0</td>\n",
       "      <td>17536004.0</td>\n",
       "      <td>3.578776</td>\n",
       "      <td>low</td>\n",
       "      <td>7736004.0</td>\n",
       "      <td>yes</td>\n",
       "      <td>Mommy</td>\n",
       "      <td>Drama</td>\n",
       "    </tr>\n",
       "    <tr>\n",
       "      <th>1</th>\n",
       "      <td>1</td>\n",
       "      <td>23-Jan-15</td>\n",
       "      <td>Mommy</td>\n",
       "      <td>4900000.0</td>\n",
       "      <td>3498695.0</td>\n",
       "      <td>17536004.0</td>\n",
       "      <td>3.578776</td>\n",
       "      <td>low</td>\n",
       "      <td>7736004.0</td>\n",
       "      <td>yes</td>\n",
       "      <td>Mommy</td>\n",
       "      <td>Drama</td>\n",
       "    </tr>\n",
       "    <tr>\n",
       "      <th>2</th>\n",
       "      <td>4</td>\n",
       "      <td>17-Aug-12</td>\n",
       "      <td>The Awakening</td>\n",
       "      <td>4900000.0</td>\n",
       "      <td>95933.0</td>\n",
       "      <td>6924321.0</td>\n",
       "      <td>1.413127</td>\n",
       "      <td>low</td>\n",
       "      <td>-2875679.0</td>\n",
       "      <td>no</td>\n",
       "      <td>The Awakening</td>\n",
       "      <td>Horror,Thriller</td>\n",
       "    </tr>\n",
       "    <tr>\n",
       "      <th>3</th>\n",
       "      <td>4</td>\n",
       "      <td>17-Aug-12</td>\n",
       "      <td>The Awakening</td>\n",
       "      <td>4900000.0</td>\n",
       "      <td>95933.0</td>\n",
       "      <td>6924321.0</td>\n",
       "      <td>1.413127</td>\n",
       "      <td>low</td>\n",
       "      <td>-2875679.0</td>\n",
       "      <td>no</td>\n",
       "      <td>The Awakening</td>\n",
       "      <td>Horror,Thriller</td>\n",
       "    </tr>\n",
       "    <tr>\n",
       "      <th>4</th>\n",
       "      <td>4</td>\n",
       "      <td>17-Aug-12</td>\n",
       "      <td>The Awakening</td>\n",
       "      <td>4900000.0</td>\n",
       "      <td>95933.0</td>\n",
       "      <td>6924321.0</td>\n",
       "      <td>1.413127</td>\n",
       "      <td>low</td>\n",
       "      <td>-2875679.0</td>\n",
       "      <td>no</td>\n",
       "      <td>The Awakening</td>\n",
       "      <td>Thriller</td>\n",
       "    </tr>\n",
       "    <tr>\n",
       "      <th>...</th>\n",
       "      <td>...</td>\n",
       "      <td>...</td>\n",
       "      <td>...</td>\n",
       "      <td>...</td>\n",
       "      <td>...</td>\n",
       "      <td>...</td>\n",
       "      <td>...</td>\n",
       "      <td>...</td>\n",
       "      <td>...</td>\n",
       "      <td>...</td>\n",
       "      <td>...</td>\n",
       "      <td>...</td>\n",
       "    </tr>\n",
       "    <tr>\n",
       "      <th>969</th>\n",
       "      <td>68</td>\n",
       "      <td>6-Jul-01</td>\n",
       "      <td>Cure</td>\n",
       "      <td>10000.0</td>\n",
       "      <td>94596.0</td>\n",
       "      <td>94596.0</td>\n",
       "      <td>9.459600</td>\n",
       "      <td>low</td>\n",
       "      <td>74596.0</td>\n",
       "      <td>yes</td>\n",
       "      <td>Cure</td>\n",
       "      <td>None</td>\n",
       "    </tr>\n",
       "    <tr>\n",
       "      <th>970</th>\n",
       "      <td>70</td>\n",
       "      <td>1-Apr-96</td>\n",
       "      <td>Bang</td>\n",
       "      <td>10000.0</td>\n",
       "      <td>527.0</td>\n",
       "      <td>527.0</td>\n",
       "      <td>0.052700</td>\n",
       "      <td>low</td>\n",
       "      <td>-19473.0</td>\n",
       "      <td>no</td>\n",
       "      <td>Bang</td>\n",
       "      <td>None</td>\n",
       "    </tr>\n",
       "    <tr>\n",
       "      <th>971</th>\n",
       "      <td>73</td>\n",
       "      <td>13-Jan-12</td>\n",
       "      <td>Newlyweds</td>\n",
       "      <td>9000.0</td>\n",
       "      <td>4584.0</td>\n",
       "      <td>4584.0</td>\n",
       "      <td>0.509333</td>\n",
       "      <td>low</td>\n",
       "      <td>-13416.0</td>\n",
       "      <td>no</td>\n",
       "      <td>Newlyweds</td>\n",
       "      <td>Comedy,Drama</td>\n",
       "    </tr>\n",
       "    <tr>\n",
       "      <th>972</th>\n",
       "      <td>78</td>\n",
       "      <td>31-Dec-18</td>\n",
       "      <td>Red 11</td>\n",
       "      <td>7000.0</td>\n",
       "      <td>0.0</td>\n",
       "      <td>0.0</td>\n",
       "      <td>0.000000</td>\n",
       "      <td>low</td>\n",
       "      <td>-14000.0</td>\n",
       "      <td>no</td>\n",
       "      <td>Red 11</td>\n",
       "      <td>Horror,Sci-Fi,Thriller</td>\n",
       "    </tr>\n",
       "    <tr>\n",
       "      <th>973</th>\n",
       "      <td>81</td>\n",
       "      <td>29-Sep-15</td>\n",
       "      <td>A Plague So Pleasant</td>\n",
       "      <td>1400.0</td>\n",
       "      <td>0.0</td>\n",
       "      <td>0.0</td>\n",
       "      <td>0.000000</td>\n",
       "      <td>low</td>\n",
       "      <td>-2800.0</td>\n",
       "      <td>no</td>\n",
       "      <td>A Plague So Pleasant</td>\n",
       "      <td>Drama,Horror,Thriller</td>\n",
       "    </tr>\n",
       "  </tbody>\n",
       "</table>\n",
       "<p>973 rows × 12 columns</p>\n",
       "</div>"
      ],
      "text/plain": [
       "     id release_date                 movie  production_budget  domestic_gross  \\\n",
       "0     1    23-Jan-15                 Mommy          4900000.0       3498695.0   \n",
       "1     1    23-Jan-15                 Mommy          4900000.0       3498695.0   \n",
       "2     4    17-Aug-12         The Awakening          4900000.0         95933.0   \n",
       "3     4    17-Aug-12         The Awakening          4900000.0         95933.0   \n",
       "4     4    17-Aug-12         The Awakening          4900000.0         95933.0   \n",
       "..   ..          ...                   ...                ...             ...   \n",
       "969  68     6-Jul-01                  Cure            10000.0         94596.0   \n",
       "970  70     1-Apr-96                  Bang            10000.0           527.0   \n",
       "971  73    13-Jan-12             Newlyweds             9000.0          4584.0   \n",
       "972  78    31-Dec-18                Red 11             7000.0             0.0   \n",
       "973  81    29-Sep-15  A Plague So Pleasant             1400.0             0.0   \n",
       "\n",
       "     worldwide_gross  gtbratio budgetcat  profitability success  \\\n",
       "0         17536004.0  3.578776       low      7736004.0     yes   \n",
       "1         17536004.0  3.578776       low      7736004.0     yes   \n",
       "2          6924321.0  1.413127       low     -2875679.0      no   \n",
       "3          6924321.0  1.413127       low     -2875679.0      no   \n",
       "4          6924321.0  1.413127       low     -2875679.0      no   \n",
       "..               ...       ...       ...            ...     ...   \n",
       "969          94596.0  9.459600       low        74596.0     yes   \n",
       "970            527.0  0.052700       low       -19473.0      no   \n",
       "971           4584.0  0.509333       low       -13416.0      no   \n",
       "972              0.0  0.000000       low       -14000.0      no   \n",
       "973              0.0  0.000000       low        -2800.0      no   \n",
       "\n",
       "            primary_title                  genres  \n",
       "0                   Mommy                   Drama  \n",
       "1                   Mommy                   Drama  \n",
       "2           The Awakening         Horror,Thriller  \n",
       "3           The Awakening         Horror,Thriller  \n",
       "4           The Awakening                Thriller  \n",
       "..                    ...                     ...  \n",
       "969                  Cure                    None  \n",
       "970                  Bang                    None  \n",
       "971             Newlyweds            Comedy,Drama  \n",
       "972                Red 11  Horror,Sci-Fi,Thriller  \n",
       "973  A Plague So Pleasant   Drama,Horror,Thriller  \n",
       "\n",
       "[973 rows x 12 columns]"
      ]
     },
     "execution_count": 34,
     "metadata": {},
     "output_type": "execute_result"
    }
   ],
   "source": [
    "duplicates = genres1df[genres1df.duplicated(subset=['id'],keep=False)]\n",
    "duplicates"
   ]
  },
  {
   "cell_type": "code",
   "execution_count": 35,
   "metadata": {},
   "outputs": [],
   "source": [
    "genres1cleannodups = genres1clean.drop_duplicates(subset=['id'])"
   ]
  },
  {
   "cell_type": "code",
   "execution_count": 36,
   "metadata": {},
   "outputs": [],
   "source": [
    "valcnts = genres1cleannodups['genres'].value_counts()"
   ]
  },
  {
   "cell_type": "code",
   "execution_count": 37,
   "metadata": {},
   "outputs": [
    {
     "data": {
      "text/plain": [
       "Drama                              10\n",
       "Drama,Romance                       7\n",
       "Documentary                         7\n",
       "Comedy,Drama                        5\n",
       "Horror                              5\n",
       "Horror,Thriller                     4\n",
       "Crime,Drama                         3\n",
       "Comedy,Drama,Romance                3\n",
       "Drama,Mystery,Sci-Fi                3\n",
       "Comedy                              3\n",
       "Drama,Thriller                      3\n",
       "Drama,Horror,Mystery                2\n",
       "Crime,Drama,Horror                  2\n",
       "Comedy,Horror                       2\n",
       "Horror,Sci-Fi,Thriller              2\n",
       "Drama,Horror,Thriller               2\n",
       "Action,Crime,Drama                  2\n",
       "Comedy,Romance                      2\n",
       "Action,Crime,Horror                 1\n",
       "Action,Comedy,Crime                 1\n",
       "Action,Adventure,Western            1\n",
       "Drama,Horror                        1\n",
       "Drama,Mystery,Romance               1\n",
       "Action,Horror                       1\n",
       "Comedy,Drama,Sport                  1\n",
       "Thriller                            1\n",
       "Action,Mystery,Thriller             1\n",
       "Horror,Romance,Thriller             1\n",
       "Musical                             1\n",
       "Comedy,Drama,Fantasy                1\n",
       "Crime,Mystery,Thriller              1\n",
       "Documentary,History                 1\n",
       "Action,Crime                        1\n",
       "Action,Thriller                     1\n",
       "Adventure,Biography,Documentary     1\n",
       "Adventure,Comedy,Drama              1\n",
       "Drama,Sci-Fi,Thriller               1\n",
       "Action,Horror,Sci-Fi                1\n",
       "Action,Crime,Thriller               1\n",
       "Drama,Fantasy                       1\n",
       "Action,Adventure                    1\n",
       "Horror,Mystery                      1\n",
       "Comedy,Crime,Drama                  1\n",
       "Action                              1\n",
       "Adventure,Biography,Drama           1\n",
       "Comedy,Documentary                  1\n",
       "Drama,Mystery,Thriller              1\n",
       "Crime,Drama,Thriller                1\n",
       "Family                              1\n",
       "Comedy,Fantasy                      1\n",
       "Action,Drama                        1\n",
       "Name: genres, dtype: int64"
      ]
     },
     "execution_count": 37,
     "metadata": {},
     "output_type": "execute_result"
    }
   ],
   "source": [
    "valcnts"
   ]
  },
  {
   "cell_type": "markdown",
   "metadata": {},
   "source": [
    "Once we clean the data after merging the budget database with the IMDB database, we have insufficient data to analyze the relationship between genre and profitability in low-budget films."
   ]
  }
 ],
 "metadata": {
  "kernelspec": {
   "display_name": "Python 3",
   "language": "python",
   "name": "python3"
  },
  "language_info": {
   "codemirror_mode": {
    "name": "ipython",
    "version": 3
   },
   "file_extension": ".py",
   "mimetype": "text/x-python",
   "name": "python",
   "nbconvert_exporter": "python",
   "pygments_lexer": "ipython3",
   "version": "3.8.5"
  }
 },
 "nbformat": 4,
 "nbformat_minor": 2
}
