{
 "cells": [
  {
   "cell_type": "markdown",
   "metadata": {},
   "source": [
    "# Budget Optimization: Tests 1-10\n"
   ]
  },
  {
   "cell_type": "markdown",
   "metadata": {},
   "source": [
    "## Loading Data and Converting Data Types"
   ]
  },
  {
   "cell_type": "code",
   "execution_count": 1,
   "metadata": {},
   "outputs": [],
   "source": [
    "import pandas as pd"
   ]
  },
  {
   "cell_type": "code",
   "execution_count": 2,
   "metadata": {},
   "outputs": [],
   "source": [
    "budgetsdf = pd.read_csv('Data/tn.movie_budgets.csv')"
   ]
  },
  {
   "cell_type": "code",
   "execution_count": 3,
   "metadata": {},
   "outputs": [],
   "source": [
    "df = budgetsdf.copy()"
   ]
  },
  {
   "cell_type": "code",
   "execution_count": 4,
   "metadata": {},
   "outputs": [],
   "source": [
    "df['worldwide_gross'] = df['worldwide_gross'].apply(lambda x: x.replace('$', '').replace(',', ''))\n",
    "df['domestic_gross'] = df['domestic_gross'].apply(lambda x: x.replace('$', '').replace(',', ''))\n",
    "df['production_budget'] = df['production_budget'].apply(lambda x: x.replace('$', '').replace(',', ''))"
   ]
  },
  {
   "cell_type": "code",
   "execution_count": 5,
   "metadata": {},
   "outputs": [],
   "source": [
    "df['worldwide_gross'] = df['worldwide_gross'].astype(float)\n",
    "df['domestic_gross'] = df['domestic_gross'].astype(float)\n",
    "df['production_budget'] = df['production_budget'].astype(float)"
   ]
  },
  {
   "cell_type": "markdown",
   "metadata": {},
   "source": [
    "## Calculating Gross to Budget Ratio and Creating Budget Categories"
   ]
  },
  {
   "cell_type": "code",
   "execution_count": 6,
   "metadata": {},
   "outputs": [],
   "source": [
    "df['gtbratio'] = df['worldwide_gross']/df['production_budget']"
   ]
  },
  {
   "cell_type": "code",
   "execution_count": 7,
   "metadata": {},
   "outputs": [],
   "source": [
    "# Source = https://www.studiobinder.com/blog/production-budget/#:~:text=Film%20Budget%20Examples,-Low%2Dend%20movie&text=There's%20some%20conjecture%20as%20to,(2007)%20%E2%80%93%20Budget%3A%20%247%2C000\n",
    "\n",
    "df['budgetcat'] = ['low' if x < 5000000 else 'mid' if x < 50000000 else 'high' for x in df['production_budget']]"
   ]
  },
  {
   "cell_type": "code",
   "execution_count": 8,
   "metadata": {},
   "outputs": [],
   "source": [
    "lowdf = df.loc[df['budgetcat'] == 'low']\n",
    "middf = df.loc[df['budgetcat'] == 'mid']\n",
    "highdf = df.loc[df['budgetcat'] == 'high']"
   ]
  },
  {
   "cell_type": "markdown",
   "metadata": {},
   "source": [
    "## Records of tests 1-10"
   ]
  },
  {
   "cell_type": "markdown",
   "metadata": {},
   "source": [
    "Test 1"
   ]
  },
  {
   "cell_type": "code",
   "execution_count": 50,
   "metadata": {},
   "outputs": [
    {
     "data": {
      "text/html": [
       "<div>\n",
       "<style scoped>\n",
       "    .dataframe tbody tr th:only-of-type {\n",
       "        vertical-align: middle;\n",
       "    }\n",
       "\n",
       "    .dataframe tbody tr th {\n",
       "        vertical-align: top;\n",
       "    }\n",
       "\n",
       "    .dataframe thead th {\n",
       "        text-align: right;\n",
       "    }\n",
       "</style>\n",
       "<table border=\"1\" class=\"dataframe\">\n",
       "  <thead>\n",
       "    <tr style=\"text-align: right;\">\n",
       "      <th></th>\n",
       "      <th>id</th>\n",
       "      <th>release_date</th>\n",
       "      <th>movie</th>\n",
       "      <th>production_budget</th>\n",
       "      <th>domestic_gross</th>\n",
       "      <th>worldwide_gross</th>\n",
       "      <th>gtbratio</th>\n",
       "      <th>net</th>\n",
       "      <th>ntbratio</th>\n",
       "      <th>budgetcat</th>\n",
       "      <th>profitability</th>\n",
       "      <th>success</th>\n",
       "    </tr>\n",
       "  </thead>\n",
       "  <tbody>\n",
       "    <tr>\n",
       "      <th>662</th>\n",
       "      <td>63</td>\n",
       "      <td>11-Mar-05</td>\n",
       "      <td>Hostage</td>\n",
       "      <td>75000000.0</td>\n",
       "      <td>34636443.0</td>\n",
       "      <td>77636443.0</td>\n",
       "      <td>1.035153</td>\n",
       "      <td>2636443.0</td>\n",
       "      <td>0.035153</td>\n",
       "      <td>high</td>\n",
       "      <td>-72363557.0</td>\n",
       "      <td>no</td>\n",
       "    </tr>\n",
       "  </tbody>\n",
       "</table>\n",
       "</div>"
      ],
      "text/plain": [
       "     id release_date    movie  production_budget  domestic_gross  \\\n",
       "662  63    11-Mar-05  Hostage         75000000.0      34636443.0   \n",
       "\n",
       "     worldwide_gross  gtbratio        net  ntbratio budgetcat  profitability  \\\n",
       "662       77636443.0  1.035153  2636443.0  0.035153      high    -72363557.0   \n",
       "\n",
       "    success  \n",
       "662      no  "
      ]
     },
     "execution_count": 50,
     "metadata": {},
     "output_type": "execute_result"
    }
   ],
   "source": [
    "highdf.sample(n=1)"
   ]
  },
  {
   "cell_type": "code",
   "execution_count": 9,
   "metadata": {},
   "outputs": [
    {
     "name": "stdout",
     "output_type": "stream",
     "text": [
      "budget:  80000000.0\n",
      "gross:  553227808.0\n"
     ]
    }
   ],
   "source": [
    "midtest1 = middf.sample(n=4)\n",
    "print(\"budget: \", midtest1['production_budget'].sum())\n",
    "print(\"gross: \", midtest1['worldwide_gross'].sum())"
   ]
  },
  {
   "cell_type": "code",
   "execution_count": 58,
   "metadata": {},
   "outputs": [
    {
     "name": "stdout",
     "output_type": "stream",
     "text": [
      "budget:  74285848.0\n",
      "gross:  229992510.0\n"
     ]
    }
   ],
   "source": [
    "lowtest1 = lowdf.sample(n=45)\n",
    "print(\"budget: \", lowtest1['production_budget'].sum())\n",
    "print(\"gross: \", lowtest1['worldwide_gross'].sum())"
   ]
  },
  {
   "cell_type": "markdown",
   "metadata": {},
   "source": [
    "Test 2"
   ]
  },
  {
   "cell_type": "code",
   "execution_count": 59,
   "metadata": {},
   "outputs": [
    {
     "data": {
      "text/html": [
       "<div>\n",
       "<style scoped>\n",
       "    .dataframe tbody tr th:only-of-type {\n",
       "        vertical-align: middle;\n",
       "    }\n",
       "\n",
       "    .dataframe tbody tr th {\n",
       "        vertical-align: top;\n",
       "    }\n",
       "\n",
       "    .dataframe thead th {\n",
       "        text-align: right;\n",
       "    }\n",
       "</style>\n",
       "<table border=\"1\" class=\"dataframe\">\n",
       "  <thead>\n",
       "    <tr style=\"text-align: right;\">\n",
       "      <th></th>\n",
       "      <th>id</th>\n",
       "      <th>release_date</th>\n",
       "      <th>movie</th>\n",
       "      <th>production_budget</th>\n",
       "      <th>domestic_gross</th>\n",
       "      <th>worldwide_gross</th>\n",
       "      <th>gtbratio</th>\n",
       "      <th>net</th>\n",
       "      <th>ntbratio</th>\n",
       "      <th>budgetcat</th>\n",
       "      <th>profitability</th>\n",
       "      <th>success</th>\n",
       "    </tr>\n",
       "  </thead>\n",
       "  <tbody>\n",
       "    <tr>\n",
       "      <th>1170</th>\n",
       "      <td>71</td>\n",
       "      <td>9-Aug-02</td>\n",
       "      <td>Blood Work</td>\n",
       "      <td>50000000.0</td>\n",
       "      <td>26199517.0</td>\n",
       "      <td>26199517.0</td>\n",
       "      <td>0.52399</td>\n",
       "      <td>-23800483.0</td>\n",
       "      <td>-0.47601</td>\n",
       "      <td>high</td>\n",
       "      <td>-73800483.0</td>\n",
       "      <td>no</td>\n",
       "    </tr>\n",
       "  </tbody>\n",
       "</table>\n",
       "</div>"
      ],
      "text/plain": [
       "      id release_date       movie  production_budget  domestic_gross  \\\n",
       "1170  71     9-Aug-02  Blood Work         50000000.0      26199517.0   \n",
       "\n",
       "      worldwide_gross  gtbratio         net  ntbratio budgetcat  \\\n",
       "1170       26199517.0   0.52399 -23800483.0  -0.47601      high   \n",
       "\n",
       "      profitability success  \n",
       "1170    -73800483.0      no  "
      ]
     },
     "execution_count": 59,
     "metadata": {},
     "output_type": "execute_result"
    }
   ],
   "source": [
    "highdf.sample(n=1)"
   ]
  },
  {
   "cell_type": "code",
   "execution_count": 60,
   "metadata": {},
   "outputs": [
    {
     "name": "stdout",
     "output_type": "stream",
     "text": [
      "budget:  59000000.0\n",
      "gross:  33087228.0\n"
     ]
    }
   ],
   "source": [
    "midtest1 = middf.sample(n=3)\n",
    "print(\"budget: \", midtest1['production_budget'].sum())\n",
    "print(\"gross: \", midtest1['worldwide_gross'].sum())"
   ]
  },
  {
   "cell_type": "code",
   "execution_count": 65,
   "metadata": {},
   "outputs": [
    {
     "name": "stdout",
     "output_type": "stream",
     "text": [
      "budget:  53321173.0\n",
      "gross:  223802611.0\n"
     ]
    }
   ],
   "source": [
    "lowtest1 = lowdf.sample(n=30)\n",
    "print(\"budget: \", lowtest1['production_budget'].sum())\n",
    "print(\"gross: \", lowtest1['worldwide_gross'].sum())"
   ]
  },
  {
   "cell_type": "markdown",
   "metadata": {},
   "source": [
    "Test 3"
   ]
  },
  {
   "cell_type": "code",
   "execution_count": 66,
   "metadata": {},
   "outputs": [
    {
     "data": {
      "text/html": [
       "<div>\n",
       "<style scoped>\n",
       "    .dataframe tbody tr th:only-of-type {\n",
       "        vertical-align: middle;\n",
       "    }\n",
       "\n",
       "    .dataframe tbody tr th {\n",
       "        vertical-align: top;\n",
       "    }\n",
       "\n",
       "    .dataframe thead th {\n",
       "        text-align: right;\n",
       "    }\n",
       "</style>\n",
       "<table border=\"1\" class=\"dataframe\">\n",
       "  <thead>\n",
       "    <tr style=\"text-align: right;\">\n",
       "      <th></th>\n",
       "      <th>id</th>\n",
       "      <th>release_date</th>\n",
       "      <th>movie</th>\n",
       "      <th>production_budget</th>\n",
       "      <th>domestic_gross</th>\n",
       "      <th>worldwide_gross</th>\n",
       "      <th>gtbratio</th>\n",
       "      <th>net</th>\n",
       "      <th>ntbratio</th>\n",
       "      <th>budgetcat</th>\n",
       "      <th>profitability</th>\n",
       "      <th>success</th>\n",
       "    </tr>\n",
       "  </thead>\n",
       "  <tbody>\n",
       "    <tr>\n",
       "      <th>703</th>\n",
       "      <td>4</td>\n",
       "      <td>8-Aug-03</td>\n",
       "      <td>S.W.A.T.</td>\n",
       "      <td>70000000.0</td>\n",
       "      <td>116877597.0</td>\n",
       "      <td>207154748.0</td>\n",
       "      <td>2.959354</td>\n",
       "      <td>137154748.0</td>\n",
       "      <td>1.959354</td>\n",
       "      <td>high</td>\n",
       "      <td>67154748.0</td>\n",
       "      <td>yes</td>\n",
       "    </tr>\n",
       "  </tbody>\n",
       "</table>\n",
       "</div>"
      ],
      "text/plain": [
       "     id release_date     movie  production_budget  domestic_gross  \\\n",
       "703   4     8-Aug-03  S.W.A.T.         70000000.0     116877597.0   \n",
       "\n",
       "     worldwide_gross  gtbratio          net  ntbratio budgetcat  \\\n",
       "703      207154748.0  2.959354  137154748.0  1.959354      high   \n",
       "\n",
       "     profitability success  \n",
       "703     67154748.0     yes  "
      ]
     },
     "execution_count": 66,
     "metadata": {},
     "output_type": "execute_result"
    }
   ],
   "source": [
    "highdf.sample(n=1)"
   ]
  },
  {
   "cell_type": "code",
   "execution_count": 67,
   "metadata": {},
   "outputs": [
    {
     "name": "stdout",
     "output_type": "stream",
     "text": [
      "budget:  68000000.0\n",
      "gross:  128307395.0\n"
     ]
    }
   ],
   "source": [
    "midtest1 = middf.sample(n=4)\n",
    "print(\"budget: \", midtest1['production_budget'].sum())\n",
    "print(\"gross: \", midtest1['worldwide_gross'].sum())"
   ]
  },
  {
   "cell_type": "code",
   "execution_count": 68,
   "metadata": {},
   "outputs": [
    {
     "name": "stdout",
     "output_type": "stream",
     "text": [
      "budget:  72978000.0\n",
      "gross:  426209825.0\n"
     ]
    }
   ],
   "source": [
    "lowtest1 = lowdf.sample(n=45)\n",
    "print(\"budget: \", lowtest1['production_budget'].sum())\n",
    "print(\"gross: \", lowtest1['worldwide_gross'].sum())"
   ]
  },
  {
   "cell_type": "markdown",
   "metadata": {},
   "source": [
    "Test 4"
   ]
  },
  {
   "cell_type": "code",
   "execution_count": 69,
   "metadata": {},
   "outputs": [
    {
     "data": {
      "text/html": [
       "<div>\n",
       "<style scoped>\n",
       "    .dataframe tbody tr th:only-of-type {\n",
       "        vertical-align: middle;\n",
       "    }\n",
       "\n",
       "    .dataframe tbody tr th {\n",
       "        vertical-align: top;\n",
       "    }\n",
       "\n",
       "    .dataframe thead th {\n",
       "        text-align: right;\n",
       "    }\n",
       "</style>\n",
       "<table border=\"1\" class=\"dataframe\">\n",
       "  <thead>\n",
       "    <tr style=\"text-align: right;\">\n",
       "      <th></th>\n",
       "      <th>id</th>\n",
       "      <th>release_date</th>\n",
       "      <th>movie</th>\n",
       "      <th>production_budget</th>\n",
       "      <th>domestic_gross</th>\n",
       "      <th>worldwide_gross</th>\n",
       "      <th>gtbratio</th>\n",
       "      <th>net</th>\n",
       "      <th>ntbratio</th>\n",
       "      <th>budgetcat</th>\n",
       "      <th>profitability</th>\n",
       "      <th>success</th>\n",
       "    </tr>\n",
       "  </thead>\n",
       "  <tbody>\n",
       "    <tr>\n",
       "      <th>12</th>\n",
       "      <td>13</td>\n",
       "      <td>2-Jul-13</td>\n",
       "      <td>The Lone Ranger</td>\n",
       "      <td>275000000.0</td>\n",
       "      <td>89302115.0</td>\n",
       "      <td>260002115.0</td>\n",
       "      <td>0.945462</td>\n",
       "      <td>-14997885.0</td>\n",
       "      <td>-0.054538</td>\n",
       "      <td>high</td>\n",
       "      <td>-289997885.0</td>\n",
       "      <td>no</td>\n",
       "    </tr>\n",
       "  </tbody>\n",
       "</table>\n",
       "</div>"
      ],
      "text/plain": [
       "    id release_date            movie  production_budget  domestic_gross  \\\n",
       "12  13     2-Jul-13  The Lone Ranger        275000000.0      89302115.0   \n",
       "\n",
       "    worldwide_gross  gtbratio         net  ntbratio budgetcat  profitability  \\\n",
       "12      260002115.0  0.945462 -14997885.0 -0.054538      high   -289997885.0   \n",
       "\n",
       "   success  \n",
       "12      no  "
      ]
     },
     "execution_count": 69,
     "metadata": {},
     "output_type": "execute_result"
    }
   ],
   "source": [
    "highdf.sample(n=1)"
   ]
  },
  {
   "cell_type": "code",
   "execution_count": 78,
   "metadata": {},
   "outputs": [
    {
     "name": "stdout",
     "output_type": "stream",
     "text": [
      "budget:  274000000.0\n",
      "gross:  1237681581.0\n"
     ]
    }
   ],
   "source": [
    "midtest1 = middf.sample(n=14)\n",
    "print(\"budget: \", midtest1['production_budget'].sum())\n",
    "print(\"gross: \", midtest1['worldwide_gross'].sum())"
   ]
  },
  {
   "cell_type": "code",
   "execution_count": 83,
   "metadata": {},
   "outputs": [
    {
     "name": "stdout",
     "output_type": "stream",
     "text": [
      "budget:  271427000.0\n",
      "gross:  1224494174.0\n"
     ]
    }
   ],
   "source": [
    "lowtest1 = lowdf.sample(n=150)\n",
    "print(\"budget: \", lowtest1['production_budget'].sum())\n",
    "print(\"gross: \", lowtest1['worldwide_gross'].sum())"
   ]
  },
  {
   "cell_type": "markdown",
   "metadata": {},
   "source": [
    "Test 5"
   ]
  },
  {
   "cell_type": "code",
   "execution_count": 84,
   "metadata": {},
   "outputs": [
    {
     "data": {
      "text/html": [
       "<div>\n",
       "<style scoped>\n",
       "    .dataframe tbody tr th:only-of-type {\n",
       "        vertical-align: middle;\n",
       "    }\n",
       "\n",
       "    .dataframe tbody tr th {\n",
       "        vertical-align: top;\n",
       "    }\n",
       "\n",
       "    .dataframe thead th {\n",
       "        text-align: right;\n",
       "    }\n",
       "</style>\n",
       "<table border=\"1\" class=\"dataframe\">\n",
       "  <thead>\n",
       "    <tr style=\"text-align: right;\">\n",
       "      <th></th>\n",
       "      <th>id</th>\n",
       "      <th>release_date</th>\n",
       "      <th>movie</th>\n",
       "      <th>production_budget</th>\n",
       "      <th>domestic_gross</th>\n",
       "      <th>worldwide_gross</th>\n",
       "      <th>gtbratio</th>\n",
       "      <th>net</th>\n",
       "      <th>ntbratio</th>\n",
       "      <th>budgetcat</th>\n",
       "      <th>profitability</th>\n",
       "      <th>success</th>\n",
       "    </tr>\n",
       "  </thead>\n",
       "  <tbody>\n",
       "    <tr>\n",
       "      <th>807</th>\n",
       "      <td>8</td>\n",
       "      <td>11-Oct-96</td>\n",
       "      <td>The Long Kiss Goodnight</td>\n",
       "      <td>65000000.0</td>\n",
       "      <td>33447612.0</td>\n",
       "      <td>33447612.0</td>\n",
       "      <td>0.514579</td>\n",
       "      <td>-31552388.0</td>\n",
       "      <td>-0.485421</td>\n",
       "      <td>high</td>\n",
       "      <td>-96552388.0</td>\n",
       "      <td>no</td>\n",
       "    </tr>\n",
       "  </tbody>\n",
       "</table>\n",
       "</div>"
      ],
      "text/plain": [
       "     id release_date                    movie  production_budget  \\\n",
       "807   8    11-Oct-96  The Long Kiss Goodnight         65000000.0   \n",
       "\n",
       "     domestic_gross  worldwide_gross  gtbratio         net  ntbratio  \\\n",
       "807      33447612.0       33447612.0  0.514579 -31552388.0 -0.485421   \n",
       "\n",
       "    budgetcat  profitability success  \n",
       "807      high    -96552388.0      no  "
      ]
     },
     "execution_count": 84,
     "metadata": {},
     "output_type": "execute_result"
    }
   ],
   "source": [
    "highdf.sample(n=1)"
   ]
  },
  {
   "cell_type": "code",
   "execution_count": 87,
   "metadata": {},
   "outputs": [
    {
     "name": "stdout",
     "output_type": "stream",
     "text": [
      "budget:  71500000.0\n",
      "gross:  208102990.0\n"
     ]
    }
   ],
   "source": [
    "midtest1 = middf.sample(n=4)\n",
    "print(\"budget: \", midtest1['production_budget'].sum())\n",
    "print(\"gross: \", midtest1['worldwide_gross'].sum())"
   ]
  },
  {
   "cell_type": "code",
   "execution_count": 89,
   "metadata": {},
   "outputs": [
    {
     "name": "stdout",
     "output_type": "stream",
     "text": [
      "budget:  71083000.0\n",
      "gross:  503732849.0\n"
     ]
    }
   ],
   "source": [
    "lowtest1 = lowdf.sample(n=40)\n",
    "print(\"budget: \", lowtest1['production_budget'].sum())\n",
    "print(\"gross: \", lowtest1['worldwide_gross'].sum())"
   ]
  },
  {
   "cell_type": "markdown",
   "metadata": {},
   "source": [
    "Test 6"
   ]
  },
  {
   "cell_type": "code",
   "execution_count": 90,
   "metadata": {},
   "outputs": [
    {
     "data": {
      "text/html": [
       "<div>\n",
       "<style scoped>\n",
       "    .dataframe tbody tr th:only-of-type {\n",
       "        vertical-align: middle;\n",
       "    }\n",
       "\n",
       "    .dataframe tbody tr th {\n",
       "        vertical-align: top;\n",
       "    }\n",
       "\n",
       "    .dataframe thead th {\n",
       "        text-align: right;\n",
       "    }\n",
       "</style>\n",
       "<table border=\"1\" class=\"dataframe\">\n",
       "  <thead>\n",
       "    <tr style=\"text-align: right;\">\n",
       "      <th></th>\n",
       "      <th>id</th>\n",
       "      <th>release_date</th>\n",
       "      <th>movie</th>\n",
       "      <th>production_budget</th>\n",
       "      <th>domestic_gross</th>\n",
       "      <th>worldwide_gross</th>\n",
       "      <th>gtbratio</th>\n",
       "      <th>net</th>\n",
       "      <th>ntbratio</th>\n",
       "      <th>budgetcat</th>\n",
       "      <th>profitability</th>\n",
       "      <th>success</th>\n",
       "    </tr>\n",
       "  </thead>\n",
       "  <tbody>\n",
       "    <tr>\n",
       "      <th>762</th>\n",
       "      <td>63</td>\n",
       "      <td>2-Mar-12</td>\n",
       "      <td>Doctor Seuss' The Lorax</td>\n",
       "      <td>67500000.0</td>\n",
       "      <td>214030500.0</td>\n",
       "      <td>350976753.0</td>\n",
       "      <td>5.199656</td>\n",
       "      <td>283476753.0</td>\n",
       "      <td>4.199656</td>\n",
       "      <td>high</td>\n",
       "      <td>215976753.0</td>\n",
       "      <td>yes</td>\n",
       "    </tr>\n",
       "  </tbody>\n",
       "</table>\n",
       "</div>"
      ],
      "text/plain": [
       "     id release_date                    movie  production_budget  \\\n",
       "762  63     2-Mar-12  Doctor Seuss' The Lorax         67500000.0   \n",
       "\n",
       "     domestic_gross  worldwide_gross  gtbratio          net  ntbratio  \\\n",
       "762     214030500.0      350976753.0  5.199656  283476753.0  4.199656   \n",
       "\n",
       "    budgetcat  profitability success  \n",
       "762      high    215976753.0     yes  "
      ]
     },
     "execution_count": 90,
     "metadata": {},
     "output_type": "execute_result"
    }
   ],
   "source": [
    "highdf.sample(n=1)"
   ]
  },
  {
   "cell_type": "code",
   "execution_count": 96,
   "metadata": {},
   "outputs": [
    {
     "name": "stdout",
     "output_type": "stream",
     "text": [
      "budget:  61000000.0\n",
      "gross:  322044719.0\n"
     ]
    }
   ],
   "source": [
    "midtest1 = middf.sample(n=4)\n",
    "print(\"budget: \", midtest1['production_budget'].sum())\n",
    "print(\"gross: \", midtest1['worldwide_gross'].sum())"
   ]
  },
  {
   "cell_type": "code",
   "execution_count": 99,
   "metadata": {},
   "outputs": [
    {
     "name": "stdout",
     "output_type": "stream",
     "text": [
      "budget:  61574000.0\n",
      "gross:  524042835.0\n"
     ]
    }
   ],
   "source": [
    "lowtest1 = lowdf.sample(n=35)\n",
    "print(\"budget: \", lowtest1['production_budget'].sum())\n",
    "print(\"gross: \", lowtest1['worldwide_gross'].sum())"
   ]
  },
  {
   "cell_type": "markdown",
   "metadata": {},
   "source": [
    "Test 7"
   ]
  },
  {
   "cell_type": "code",
   "execution_count": 100,
   "metadata": {},
   "outputs": [
    {
     "data": {
      "text/html": [
       "<div>\n",
       "<style scoped>\n",
       "    .dataframe tbody tr th:only-of-type {\n",
       "        vertical-align: middle;\n",
       "    }\n",
       "\n",
       "    .dataframe tbody tr th {\n",
       "        vertical-align: top;\n",
       "    }\n",
       "\n",
       "    .dataframe thead th {\n",
       "        text-align: right;\n",
       "    }\n",
       "</style>\n",
       "<table border=\"1\" class=\"dataframe\">\n",
       "  <thead>\n",
       "    <tr style=\"text-align: right;\">\n",
       "      <th></th>\n",
       "      <th>id</th>\n",
       "      <th>release_date</th>\n",
       "      <th>movie</th>\n",
       "      <th>production_budget</th>\n",
       "      <th>domestic_gross</th>\n",
       "      <th>worldwide_gross</th>\n",
       "      <th>gtbratio</th>\n",
       "      <th>net</th>\n",
       "      <th>ntbratio</th>\n",
       "      <th>budgetcat</th>\n",
       "      <th>profitability</th>\n",
       "      <th>success</th>\n",
       "    </tr>\n",
       "  </thead>\n",
       "  <tbody>\n",
       "    <tr>\n",
       "      <th>799</th>\n",
       "      <td>100</td>\n",
       "      <td>8-Dec-04</td>\n",
       "      <td>Blade: Trinity</td>\n",
       "      <td>65000000.0</td>\n",
       "      <td>52397389.0</td>\n",
       "      <td>131353165.0</td>\n",
       "      <td>2.020818</td>\n",
       "      <td>66353165.0</td>\n",
       "      <td>1.020818</td>\n",
       "      <td>high</td>\n",
       "      <td>1353165.0</td>\n",
       "      <td>yes</td>\n",
       "    </tr>\n",
       "  </tbody>\n",
       "</table>\n",
       "</div>"
      ],
      "text/plain": [
       "      id release_date           movie  production_budget  domestic_gross  \\\n",
       "799  100     8-Dec-04  Blade: Trinity         65000000.0      52397389.0   \n",
       "\n",
       "     worldwide_gross  gtbratio         net  ntbratio budgetcat  profitability  \\\n",
       "799      131353165.0  2.020818  66353165.0  1.020818      high      1353165.0   \n",
       "\n",
       "    success  \n",
       "799     yes  "
      ]
     },
     "execution_count": 100,
     "metadata": {},
     "output_type": "execute_result"
    }
   ],
   "source": [
    "highdf.sample(n=1)"
   ]
  },
  {
   "cell_type": "code",
   "execution_count": 103,
   "metadata": {},
   "outputs": [
    {
     "name": "stdout",
     "output_type": "stream",
     "text": [
      "budget:  70000000.0\n",
      "gross:  360917807.0\n"
     ]
    }
   ],
   "source": [
    "midtest1 = middf.sample(n=3)\n",
    "print(\"budget: \", midtest1['production_budget'].sum())\n",
    "print(\"gross: \", midtest1['worldwide_gross'].sum())"
   ]
  },
  {
   "cell_type": "code",
   "execution_count": 105,
   "metadata": {},
   "outputs": [
    {
     "name": "stdout",
     "output_type": "stream",
     "text": [
      "budget:  62125000.0\n",
      "gross:  145859718.0\n"
     ]
    }
   ],
   "source": [
    "lowtest1 = lowdf.sample(n=35)\n",
    "print(\"budget: \", lowtest1['production_budget'].sum())\n",
    "print(\"gross: \", lowtest1['worldwide_gross'].sum())"
   ]
  },
  {
   "cell_type": "markdown",
   "metadata": {},
   "source": [
    "Test 8"
   ]
  },
  {
   "cell_type": "code",
   "execution_count": 106,
   "metadata": {},
   "outputs": [
    {
     "data": {
      "text/html": [
       "<div>\n",
       "<style scoped>\n",
       "    .dataframe tbody tr th:only-of-type {\n",
       "        vertical-align: middle;\n",
       "    }\n",
       "\n",
       "    .dataframe tbody tr th {\n",
       "        vertical-align: top;\n",
       "    }\n",
       "\n",
       "    .dataframe thead th {\n",
       "        text-align: right;\n",
       "    }\n",
       "</style>\n",
       "<table border=\"1\" class=\"dataframe\">\n",
       "  <thead>\n",
       "    <tr style=\"text-align: right;\">\n",
       "      <th></th>\n",
       "      <th>id</th>\n",
       "      <th>release_date</th>\n",
       "      <th>movie</th>\n",
       "      <th>production_budget</th>\n",
       "      <th>domestic_gross</th>\n",
       "      <th>worldwide_gross</th>\n",
       "      <th>gtbratio</th>\n",
       "      <th>net</th>\n",
       "      <th>ntbratio</th>\n",
       "      <th>budgetcat</th>\n",
       "      <th>profitability</th>\n",
       "      <th>success</th>\n",
       "    </tr>\n",
       "  </thead>\n",
       "  <tbody>\n",
       "    <tr>\n",
       "      <th>42</th>\n",
       "      <td>43</td>\n",
       "      <td>19-Dec-97</td>\n",
       "      <td>Titanic</td>\n",
       "      <td>200000000.0</td>\n",
       "      <td>659363944.0</td>\n",
       "      <td>2.208208e+09</td>\n",
       "      <td>11.041042</td>\n",
       "      <td>2.008208e+09</td>\n",
       "      <td>10.041042</td>\n",
       "      <td>high</td>\n",
       "      <td>1.808208e+09</td>\n",
       "      <td>yes</td>\n",
       "    </tr>\n",
       "  </tbody>\n",
       "</table>\n",
       "</div>"
      ],
      "text/plain": [
       "    id release_date    movie  production_budget  domestic_gross  \\\n",
       "42  43    19-Dec-97  Titanic        200000000.0     659363944.0   \n",
       "\n",
       "    worldwide_gross   gtbratio           net   ntbratio budgetcat  \\\n",
       "42     2.208208e+09  11.041042  2.008208e+09  10.041042      high   \n",
       "\n",
       "    profitability success  \n",
       "42   1.808208e+09     yes  "
      ]
     },
     "execution_count": 106,
     "metadata": {},
     "output_type": "execute_result"
    }
   ],
   "source": [
    "highdf.sample(n=1)"
   ]
  },
  {
   "cell_type": "code",
   "execution_count": 114,
   "metadata": {},
   "outputs": [
    {
     "name": "stdout",
     "output_type": "stream",
     "text": [
      "budget:  206500000.0\n",
      "gross:  785108469.0\n"
     ]
    }
   ],
   "source": [
    "midtest1 = middf.sample(n=10)\n",
    "print(\"budget: \", midtest1['production_budget'].sum())\n",
    "print(\"gross: \", midtest1['worldwide_gross'].sum())"
   ]
  },
  {
   "cell_type": "code",
   "execution_count": 119,
   "metadata": {},
   "outputs": [
    {
     "name": "stdout",
     "output_type": "stream",
     "text": [
      "budget:  191355000.0\n",
      "gross:  1183895637.0\n"
     ]
    }
   ],
   "source": [
    "lowtest1 = lowdf.sample(n=120)\n",
    "print(\"budget: \", lowtest1['production_budget'].sum())\n",
    "print(\"gross: \", lowtest1['worldwide_gross'].sum())"
   ]
  },
  {
   "cell_type": "markdown",
   "metadata": {},
   "source": [
    "Test 9"
   ]
  },
  {
   "cell_type": "code",
   "execution_count": 120,
   "metadata": {},
   "outputs": [
    {
     "data": {
      "text/html": [
       "<div>\n",
       "<style scoped>\n",
       "    .dataframe tbody tr th:only-of-type {\n",
       "        vertical-align: middle;\n",
       "    }\n",
       "\n",
       "    .dataframe tbody tr th {\n",
       "        vertical-align: top;\n",
       "    }\n",
       "\n",
       "    .dataframe thead th {\n",
       "        text-align: right;\n",
       "    }\n",
       "</style>\n",
       "<table border=\"1\" class=\"dataframe\">\n",
       "  <thead>\n",
       "    <tr style=\"text-align: right;\">\n",
       "      <th></th>\n",
       "      <th>id</th>\n",
       "      <th>release_date</th>\n",
       "      <th>movie</th>\n",
       "      <th>production_budget</th>\n",
       "      <th>domestic_gross</th>\n",
       "      <th>worldwide_gross</th>\n",
       "      <th>gtbratio</th>\n",
       "      <th>net</th>\n",
       "      <th>ntbratio</th>\n",
       "      <th>budgetcat</th>\n",
       "      <th>profitability</th>\n",
       "      <th>success</th>\n",
       "    </tr>\n",
       "  </thead>\n",
       "  <tbody>\n",
       "    <tr>\n",
       "      <th>1132</th>\n",
       "      <td>33</td>\n",
       "      <td>23-Nov-05</td>\n",
       "      <td>Syriana</td>\n",
       "      <td>50000000.0</td>\n",
       "      <td>50824620.0</td>\n",
       "      <td>92690959.0</td>\n",
       "      <td>1.853819</td>\n",
       "      <td>42690959.0</td>\n",
       "      <td>0.853819</td>\n",
       "      <td>high</td>\n",
       "      <td>-7309041.0</td>\n",
       "      <td>no</td>\n",
       "    </tr>\n",
       "  </tbody>\n",
       "</table>\n",
       "</div>"
      ],
      "text/plain": [
       "      id release_date    movie  production_budget  domestic_gross  \\\n",
       "1132  33    23-Nov-05  Syriana         50000000.0      50824620.0   \n",
       "\n",
       "      worldwide_gross  gtbratio         net  ntbratio budgetcat  \\\n",
       "1132       92690959.0  1.853819  42690959.0  0.853819      high   \n",
       "\n",
       "      profitability success  \n",
       "1132     -7309041.0      no  "
      ]
     },
     "execution_count": 120,
     "metadata": {},
     "output_type": "execute_result"
    }
   ],
   "source": [
    "highdf.sample(n=1)"
   ]
  },
  {
   "cell_type": "code",
   "execution_count": 123,
   "metadata": {},
   "outputs": [
    {
     "name": "stdout",
     "output_type": "stream",
     "text": [
      "budget:  48000000.0\n",
      "gross:  90936479.0\n"
     ]
    }
   ],
   "source": [
    "midtest1 = middf.sample(n=3)\n",
    "print(\"budget: \", midtest1['production_budget'].sum())\n",
    "print(\"gross: \", midtest1['worldwide_gross'].sum())"
   ]
  },
  {
   "cell_type": "code",
   "execution_count": 125,
   "metadata": {},
   "outputs": [
    {
     "name": "stdout",
     "output_type": "stream",
     "text": [
      "budget:  56522000.0\n",
      "gross:  263949114.0\n"
     ]
    }
   ],
   "source": [
    "lowtest1 = lowdf.sample(n=30)\n",
    "print(\"budget: \", lowtest1['production_budget'].sum())\n",
    "print(\"gross: \", lowtest1['worldwide_gross'].sum())"
   ]
  },
  {
   "cell_type": "markdown",
   "metadata": {},
   "source": [
    "Test 10"
   ]
  },
  {
   "cell_type": "code",
   "execution_count": 126,
   "metadata": {},
   "outputs": [
    {
     "data": {
      "text/html": [
       "<div>\n",
       "<style scoped>\n",
       "    .dataframe tbody tr th:only-of-type {\n",
       "        vertical-align: middle;\n",
       "    }\n",
       "\n",
       "    .dataframe tbody tr th {\n",
       "        vertical-align: top;\n",
       "    }\n",
       "\n",
       "    .dataframe thead th {\n",
       "        text-align: right;\n",
       "    }\n",
       "</style>\n",
       "<table border=\"1\" class=\"dataframe\">\n",
       "  <thead>\n",
       "    <tr style=\"text-align: right;\">\n",
       "      <th></th>\n",
       "      <th>id</th>\n",
       "      <th>release_date</th>\n",
       "      <th>movie</th>\n",
       "      <th>production_budget</th>\n",
       "      <th>domestic_gross</th>\n",
       "      <th>worldwide_gross</th>\n",
       "      <th>gtbratio</th>\n",
       "      <th>net</th>\n",
       "      <th>ntbratio</th>\n",
       "      <th>budgetcat</th>\n",
       "      <th>profitability</th>\n",
       "      <th>success</th>\n",
       "    </tr>\n",
       "  </thead>\n",
       "  <tbody>\n",
       "    <tr>\n",
       "      <th>937</th>\n",
       "      <td>38</td>\n",
       "      <td>25-Dec-08</td>\n",
       "      <td>The Spirit</td>\n",
       "      <td>60000000.0</td>\n",
       "      <td>19806188.0</td>\n",
       "      <td>39006188.0</td>\n",
       "      <td>0.650103</td>\n",
       "      <td>-20993812.0</td>\n",
       "      <td>-0.349897</td>\n",
       "      <td>high</td>\n",
       "      <td>-80993812.0</td>\n",
       "      <td>no</td>\n",
       "    </tr>\n",
       "  </tbody>\n",
       "</table>\n",
       "</div>"
      ],
      "text/plain": [
       "     id release_date       movie  production_budget  domestic_gross  \\\n",
       "937  38    25-Dec-08  The Spirit         60000000.0      19806188.0   \n",
       "\n",
       "     worldwide_gross  gtbratio         net  ntbratio budgetcat  profitability  \\\n",
       "937       39006188.0  0.650103 -20993812.0 -0.349897      high    -80993812.0   \n",
       "\n",
       "    success  \n",
       "937      no  "
      ]
     },
     "execution_count": 126,
     "metadata": {},
     "output_type": "execute_result"
    }
   ],
   "source": [
    "highdf.sample(n=1)"
   ]
  },
  {
   "cell_type": "code",
   "execution_count": 128,
   "metadata": {},
   "outputs": [
    {
     "name": "stdout",
     "output_type": "stream",
     "text": [
      "budget:  59600000.0\n",
      "gross:  112461875.0\n"
     ]
    }
   ],
   "source": [
    "midtest1 = middf.sample(n=4)\n",
    "print(\"budget: \", midtest1['production_budget'].sum())\n",
    "print(\"gross: \", midtest1['worldwide_gross'].sum())"
   ]
  },
  {
   "cell_type": "code",
   "execution_count": 129,
   "metadata": {},
   "outputs": [
    {
     "name": "stdout",
     "output_type": "stream",
     "text": [
      "budget:  63729000.0\n",
      "gross:  278664500.0\n"
     ]
    }
   ],
   "source": [
    "lowtest1 = lowdf.sample(n=35)\n",
    "print(\"budget: \", lowtest1['production_budget'].sum())\n",
    "print(\"gross: \", lowtest1['worldwide_gross'].sum())"
   ]
  }
 ],
 "metadata": {
  "kernelspec": {
   "display_name": "Python 3",
   "language": "python",
   "name": "python3"
  },
  "language_info": {
   "codemirror_mode": {
    "name": "ipython",
    "version": 3
   },
   "file_extension": ".py",
   "mimetype": "text/x-python",
   "name": "python",
   "nbconvert_exporter": "python",
   "pygments_lexer": "ipython3",
   "version": "3.8.5"
  }
 },
 "nbformat": 4,
 "nbformat_minor": 2
}
