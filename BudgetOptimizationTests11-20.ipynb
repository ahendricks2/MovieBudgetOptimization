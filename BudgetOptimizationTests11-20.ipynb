{
 "cells": [
  {
   "cell_type": "markdown",
   "metadata": {},
   "source": [
    "# Budget Optimization Tests 11-20"
   ]
  },
  {
   "cell_type": "markdown",
   "metadata": {},
   "source": [
    "## Loading Data and Converting Data Types"
   ]
  },
  {
   "cell_type": "code",
   "execution_count": 9,
   "metadata": {},
   "outputs": [],
   "source": [
    "import pandas as pd"
   ]
  },
  {
   "cell_type": "code",
   "execution_count": 10,
   "metadata": {},
   "outputs": [],
   "source": [
    "budgetsdf = pd.read_csv('Data/tn.movie_budgets.csv')"
   ]
  },
  {
   "cell_type": "code",
   "execution_count": 11,
   "metadata": {},
   "outputs": [],
   "source": [
    "df = budgetsdf.copy()"
   ]
  },
  {
   "cell_type": "code",
   "execution_count": 12,
   "metadata": {},
   "outputs": [],
   "source": [
    "df['worldwide_gross'] = df['worldwide_gross'].apply(lambda x: x.replace('$', '').replace(',', ''))\n",
    "df['domestic_gross'] = df['domestic_gross'].apply(lambda x: x.replace('$', '').replace(',', ''))\n",
    "df['production_budget'] = df['production_budget'].apply(lambda x: x.replace('$', '').replace(',', ''))"
   ]
  },
  {
   "cell_type": "code",
   "execution_count": 13,
   "metadata": {},
   "outputs": [],
   "source": [
    "df['worldwide_gross'] = df['worldwide_gross'].astype(float)\n",
    "df['domestic_gross'] = df['domestic_gross'].astype(float)\n",
    "df['production_budget'] = df['production_budget'].astype(float)"
   ]
  },
  {
   "cell_type": "markdown",
   "metadata": {},
   "source": [
    "## Calculating Gross to Budget Ratio and Creating Budget Categories"
   ]
  },
  {
   "cell_type": "code",
   "execution_count": 14,
   "metadata": {},
   "outputs": [],
   "source": [
    "df['gtbratio'] = df['worldwide_gross']/df['production_budget']"
   ]
  },
  {
   "cell_type": "code",
   "execution_count": 15,
   "metadata": {},
   "outputs": [],
   "source": [
    "# Source for Category Parameters = https://www.studiobinder.com/blog/production-budget/#:~:text=Film%20Budget%20Examples,-Low%2Dend%20movie&text=There's%20some%20conjecture%20as%20to,(2007)%20%E2%80%93%20Budget%3A%20%247%2C000\n",
    "\n",
    "df['budgetcat'] = ['low' if x < 5000000 else 'mid' if x < 50000000 else 'high' for x in df['production_budget']]"
   ]
  },
  {
   "cell_type": "code",
   "execution_count": 16,
   "metadata": {},
   "outputs": [],
   "source": [
    "lowdf = df.loc[df['budgetcat'] == 'low']\n",
    "middf = df.loc[df['budgetcat'] == 'mid']\n",
    "highdf = df.loc[df['budgetcat'] == 'high']"
   ]
  },
  {
   "cell_type": "markdown",
   "metadata": {},
   "source": [
    "## Records of Tests 11-20"
   ]
  },
  {
   "cell_type": "markdown",
   "metadata": {},
   "source": [
    "Test 11"
   ]
  },
  {
   "cell_type": "code",
   "execution_count": 36,
   "metadata": {
    "scrolled": true
   },
   "outputs": [
    {
     "data": {
      "text/html": [
       "<div>\n",
       "<style scoped>\n",
       "    .dataframe tbody tr th:only-of-type {\n",
       "        vertical-align: middle;\n",
       "    }\n",
       "\n",
       "    .dataframe tbody tr th {\n",
       "        vertical-align: top;\n",
       "    }\n",
       "\n",
       "    .dataframe thead th {\n",
       "        text-align: right;\n",
       "    }\n",
       "</style>\n",
       "<table border=\"1\" class=\"dataframe\">\n",
       "  <thead>\n",
       "    <tr style=\"text-align: right;\">\n",
       "      <th></th>\n",
       "      <th>id</th>\n",
       "      <th>release_date</th>\n",
       "      <th>movie</th>\n",
       "      <th>production_budget</th>\n",
       "      <th>domestic_gross</th>\n",
       "      <th>worldwide_gross</th>\n",
       "      <th>gtbratio</th>\n",
       "      <th>net</th>\n",
       "      <th>ntbratio</th>\n",
       "      <th>budgetcat</th>\n",
       "      <th>profitability</th>\n",
       "      <th>success</th>\n",
       "    </tr>\n",
       "  </thead>\n",
       "  <tbody>\n",
       "    <tr>\n",
       "      <th>19</th>\n",
       "      <td>20</td>\n",
       "      <td>15-Jul-09</td>\n",
       "      <td>Harry Potter and the Half-Blood Prince</td>\n",
       "      <td>250000000.0</td>\n",
       "      <td>302089278.0</td>\n",
       "      <td>935213767.0</td>\n",
       "      <td>3.740855</td>\n",
       "      <td>685213767.0</td>\n",
       "      <td>2.740855</td>\n",
       "      <td>high</td>\n",
       "      <td>435213767.0</td>\n",
       "      <td>yes</td>\n",
       "    </tr>\n",
       "  </tbody>\n",
       "</table>\n",
       "</div>"
      ],
      "text/plain": [
       "    id release_date                                   movie  \\\n",
       "19  20    15-Jul-09  Harry Potter and the Half-Blood Prince   \n",
       "\n",
       "    production_budget  domestic_gross  worldwide_gross  gtbratio          net  \\\n",
       "19        250000000.0     302089278.0      935213767.0  3.740855  685213767.0   \n",
       "\n",
       "    ntbratio budgetcat  profitability success  \n",
       "19  2.740855      high    435213767.0     yes  "
      ]
     },
     "execution_count": 36,
     "metadata": {},
     "output_type": "execute_result"
    }
   ],
   "source": [
    "highdf.sample(n=1)"
   ]
  },
  {
   "cell_type": "code",
   "execution_count": 78,
   "metadata": {},
   "outputs": [
    {
     "name": "stdout",
     "output_type": "stream",
     "text": [
      "budget:  258900000.0\n",
      "gross:  524310438.0\n"
     ]
    }
   ],
   "source": [
    "midtest1 = middf.sample(n=12)\n",
    "print(\"budget: \", midtest1['production_budget'].sum())\n",
    "print(\"gross: \", midtest1['worldwide_gross'].sum())"
   ]
  },
  {
   "cell_type": "code",
   "execution_count": 87,
   "metadata": {},
   "outputs": [
    {
     "name": "stdout",
     "output_type": "stream",
     "text": [
      "budget:  250076958.0\n",
      "gross:  1255237308.0\n"
     ]
    }
   ],
   "source": [
    "lowtest1 = lowdf.sample(n=140)\n",
    "print(\"budget: \", lowtest1['production_budget'].sum())\n",
    "print(\"gross: \", lowtest1['worldwide_gross'].sum())"
   ]
  },
  {
   "cell_type": "markdown",
   "metadata": {},
   "source": [
    "Test 12"
   ]
  },
  {
   "cell_type": "code",
   "execution_count": 39,
   "metadata": {},
   "outputs": [
    {
     "data": {
      "text/html": [
       "<div>\n",
       "<style scoped>\n",
       "    .dataframe tbody tr th:only-of-type {\n",
       "        vertical-align: middle;\n",
       "    }\n",
       "\n",
       "    .dataframe tbody tr th {\n",
       "        vertical-align: top;\n",
       "    }\n",
       "\n",
       "    .dataframe thead th {\n",
       "        text-align: right;\n",
       "    }\n",
       "</style>\n",
       "<table border=\"1\" class=\"dataframe\">\n",
       "  <thead>\n",
       "    <tr style=\"text-align: right;\">\n",
       "      <th></th>\n",
       "      <th>id</th>\n",
       "      <th>release_date</th>\n",
       "      <th>movie</th>\n",
       "      <th>production_budget</th>\n",
       "      <th>domestic_gross</th>\n",
       "      <th>worldwide_gross</th>\n",
       "      <th>gtbratio</th>\n",
       "      <th>net</th>\n",
       "      <th>ntbratio</th>\n",
       "      <th>budgetcat</th>\n",
       "      <th>profitability</th>\n",
       "      <th>success</th>\n",
       "    </tr>\n",
       "  </thead>\n",
       "  <tbody>\n",
       "    <tr>\n",
       "      <th>1109</th>\n",
       "      <td>10</td>\n",
       "      <td>5-Feb-99</td>\n",
       "      <td>Payback</td>\n",
       "      <td>50000000.0</td>\n",
       "      <td>81526121.0</td>\n",
       "      <td>161626121.0</td>\n",
       "      <td>3.232522</td>\n",
       "      <td>111626121.0</td>\n",
       "      <td>2.232522</td>\n",
       "      <td>high</td>\n",
       "      <td>61626121.0</td>\n",
       "      <td>yes</td>\n",
       "    </tr>\n",
       "  </tbody>\n",
       "</table>\n",
       "</div>"
      ],
      "text/plain": [
       "      id release_date    movie  production_budget  domestic_gross  \\\n",
       "1109  10     5-Feb-99  Payback         50000000.0      81526121.0   \n",
       "\n",
       "      worldwide_gross  gtbratio          net  ntbratio budgetcat  \\\n",
       "1109      161626121.0  3.232522  111626121.0  2.232522      high   \n",
       "\n",
       "      profitability success  \n",
       "1109     61626121.0     yes  "
      ]
     },
     "execution_count": 39,
     "metadata": {},
     "output_type": "execute_result"
    }
   ],
   "source": [
    "highdf.sample(n=1)"
   ]
  },
  {
   "cell_type": "code",
   "execution_count": 91,
   "metadata": {},
   "outputs": [
    {
     "name": "stdout",
     "output_type": "stream",
     "text": [
      "budget:  47000000.0\n",
      "gross:  163823687.0\n"
     ]
    }
   ],
   "source": [
    "midtest1 = middf.sample(n=3)\n",
    "print(\"budget: \", midtest1['production_budget'].sum())\n",
    "print(\"gross: \", midtest1['worldwide_gross'].sum())"
   ]
  },
  {
   "cell_type": "code",
   "execution_count": 92,
   "metadata": {},
   "outputs": [
    {
     "name": "stdout",
     "output_type": "stream",
     "text": [
      "budget:  58334000.0\n",
      "gross:  131913289.0\n"
     ]
    }
   ],
   "source": [
    "lowtest1 = lowdf.sample(n=30)\n",
    "print(\"budget: \", lowtest1['production_budget'].sum())\n",
    "print(\"gross: \", lowtest1['worldwide_gross'].sum())"
   ]
  },
  {
   "cell_type": "markdown",
   "metadata": {},
   "source": [
    "Test 13"
   ]
  },
  {
   "cell_type": "code",
   "execution_count": 42,
   "metadata": {},
   "outputs": [
    {
     "data": {
      "text/html": [
       "<div>\n",
       "<style scoped>\n",
       "    .dataframe tbody tr th:only-of-type {\n",
       "        vertical-align: middle;\n",
       "    }\n",
       "\n",
       "    .dataframe tbody tr th {\n",
       "        vertical-align: top;\n",
       "    }\n",
       "\n",
       "    .dataframe thead th {\n",
       "        text-align: right;\n",
       "    }\n",
       "</style>\n",
       "<table border=\"1\" class=\"dataframe\">\n",
       "  <thead>\n",
       "    <tr style=\"text-align: right;\">\n",
       "      <th></th>\n",
       "      <th>id</th>\n",
       "      <th>release_date</th>\n",
       "      <th>movie</th>\n",
       "      <th>production_budget</th>\n",
       "      <th>domestic_gross</th>\n",
       "      <th>worldwide_gross</th>\n",
       "      <th>gtbratio</th>\n",
       "      <th>net</th>\n",
       "      <th>ntbratio</th>\n",
       "      <th>budgetcat</th>\n",
       "      <th>profitability</th>\n",
       "      <th>success</th>\n",
       "    </tr>\n",
       "  </thead>\n",
       "  <tbody>\n",
       "    <tr>\n",
       "      <th>579</th>\n",
       "      <td>80</td>\n",
       "      <td>22-Nov-06</td>\n",
       "      <td>DÃ©jÃ Vu</td>\n",
       "      <td>80000000.0</td>\n",
       "      <td>64038616.0</td>\n",
       "      <td>181038616.0</td>\n",
       "      <td>2.262983</td>\n",
       "      <td>101038616.0</td>\n",
       "      <td>1.262983</td>\n",
       "      <td>high</td>\n",
       "      <td>21038616.0</td>\n",
       "      <td>yes</td>\n",
       "    </tr>\n",
       "  </tbody>\n",
       "</table>\n",
       "</div>"
      ],
      "text/plain": [
       "     id release_date     movie  production_budget  domestic_gross  \\\n",
       "579  80    22-Nov-06  DÃ©jÃ Vu         80000000.0      64038616.0   \n",
       "\n",
       "     worldwide_gross  gtbratio          net  ntbratio budgetcat  \\\n",
       "579      181038616.0  2.262983  101038616.0  1.262983      high   \n",
       "\n",
       "     profitability success  \n",
       "579     21038616.0     yes  "
      ]
     },
     "execution_count": 42,
     "metadata": {},
     "output_type": "execute_result"
    }
   ],
   "source": [
    "highdf.sample(n=1)"
   ]
  },
  {
   "cell_type": "code",
   "execution_count": 93,
   "metadata": {},
   "outputs": [
    {
     "name": "stdout",
     "output_type": "stream",
     "text": [
      "budget:  80000000.0\n",
      "gross:  514876151.0\n"
     ]
    }
   ],
   "source": [
    "midtest1 = middf.sample(n=4)\n",
    "print(\"budget: \", midtest1['production_budget'].sum())\n",
    "print(\"gross: \", midtest1['worldwide_gross'].sum())"
   ]
  },
  {
   "cell_type": "code",
   "execution_count": 44,
   "metadata": {},
   "outputs": [
    {
     "name": "stdout",
     "output_type": "stream",
     "text": [
      "budget:  81225000.0\n",
      "gross:  709717364.0\n"
     ]
    }
   ],
   "source": [
    "lowtest1 = lowdf.sample(n=45)\n",
    "print(\"budget: \", lowtest1['production_budget'].sum())\n",
    "print(\"gross: \", lowtest1['worldwide_gross'].sum())"
   ]
  },
  {
   "cell_type": "markdown",
   "metadata": {},
   "source": [
    "Test 14"
   ]
  },
  {
   "cell_type": "code",
   "execution_count": 45,
   "metadata": {},
   "outputs": [
    {
     "data": {
      "text/html": [
       "<div>\n",
       "<style scoped>\n",
       "    .dataframe tbody tr th:only-of-type {\n",
       "        vertical-align: middle;\n",
       "    }\n",
       "\n",
       "    .dataframe tbody tr th {\n",
       "        vertical-align: top;\n",
       "    }\n",
       "\n",
       "    .dataframe thead th {\n",
       "        text-align: right;\n",
       "    }\n",
       "</style>\n",
       "<table border=\"1\" class=\"dataframe\">\n",
       "  <thead>\n",
       "    <tr style=\"text-align: right;\">\n",
       "      <th></th>\n",
       "      <th>id</th>\n",
       "      <th>release_date</th>\n",
       "      <th>movie</th>\n",
       "      <th>production_budget</th>\n",
       "      <th>domestic_gross</th>\n",
       "      <th>worldwide_gross</th>\n",
       "      <th>gtbratio</th>\n",
       "      <th>net</th>\n",
       "      <th>ntbratio</th>\n",
       "      <th>budgetcat</th>\n",
       "      <th>profitability</th>\n",
       "      <th>success</th>\n",
       "    </tr>\n",
       "  </thead>\n",
       "  <tbody>\n",
       "    <tr>\n",
       "      <th>416</th>\n",
       "      <td>17</td>\n",
       "      <td>12-Feb-10</td>\n",
       "      <td>Percy Jackson &amp; the Olympians: The Lightning T...</td>\n",
       "      <td>95000000.0</td>\n",
       "      <td>88768303.0</td>\n",
       "      <td>223050874.0</td>\n",
       "      <td>2.347904</td>\n",
       "      <td>128050874.0</td>\n",
       "      <td>1.347904</td>\n",
       "      <td>high</td>\n",
       "      <td>33050874.0</td>\n",
       "      <td>yes</td>\n",
       "    </tr>\n",
       "  </tbody>\n",
       "</table>\n",
       "</div>"
      ],
      "text/plain": [
       "     id release_date                                              movie  \\\n",
       "416  17    12-Feb-10  Percy Jackson & the Olympians: The Lightning T...   \n",
       "\n",
       "     production_budget  domestic_gross  worldwide_gross  gtbratio  \\\n",
       "416         95000000.0      88768303.0      223050874.0  2.347904   \n",
       "\n",
       "             net  ntbratio budgetcat  profitability success  \n",
       "416  128050874.0  1.347904      high     33050874.0     yes  "
      ]
     },
     "execution_count": 45,
     "metadata": {},
     "output_type": "execute_result"
    }
   ],
   "source": [
    "highdf.sample(n=1)"
   ]
  },
  {
   "cell_type": "code",
   "execution_count": 95,
   "metadata": {},
   "outputs": [
    {
     "name": "stdout",
     "output_type": "stream",
     "text": [
      "budget:  96750000.0\n",
      "gross:  96683591.0\n"
     ]
    }
   ],
   "source": [
    "midtest1 = middf.sample(n=6)\n",
    "print(\"budget: \", midtest1['production_budget'].sum())\n",
    "print(\"gross: \", midtest1['worldwide_gross'].sum())"
   ]
  },
  {
   "cell_type": "code",
   "execution_count": 97,
   "metadata": {},
   "outputs": [
    {
     "name": "stdout",
     "output_type": "stream",
     "text": [
      "budget:  97119000.0\n",
      "gross:  509321829.0\n"
     ]
    }
   ],
   "source": [
    "lowtest1 = lowdf.sample(n=60)\n",
    "print(\"budget: \", lowtest1['production_budget'].sum())\n",
    "print(\"gross: \", lowtest1['worldwide_gross'].sum())"
   ]
  },
  {
   "cell_type": "markdown",
   "metadata": {},
   "source": [
    "Test 15"
   ]
  },
  {
   "cell_type": "code",
   "execution_count": 48,
   "metadata": {},
   "outputs": [
    {
     "data": {
      "text/html": [
       "<div>\n",
       "<style scoped>\n",
       "    .dataframe tbody tr th:only-of-type {\n",
       "        vertical-align: middle;\n",
       "    }\n",
       "\n",
       "    .dataframe tbody tr th {\n",
       "        vertical-align: top;\n",
       "    }\n",
       "\n",
       "    .dataframe thead th {\n",
       "        text-align: right;\n",
       "    }\n",
       "</style>\n",
       "<table border=\"1\" class=\"dataframe\">\n",
       "  <thead>\n",
       "    <tr style=\"text-align: right;\">\n",
       "      <th></th>\n",
       "      <th>id</th>\n",
       "      <th>release_date</th>\n",
       "      <th>movie</th>\n",
       "      <th>production_budget</th>\n",
       "      <th>domestic_gross</th>\n",
       "      <th>worldwide_gross</th>\n",
       "      <th>gtbratio</th>\n",
       "      <th>net</th>\n",
       "      <th>ntbratio</th>\n",
       "      <th>budgetcat</th>\n",
       "      <th>profitability</th>\n",
       "      <th>success</th>\n",
       "    </tr>\n",
       "  </thead>\n",
       "  <tbody>\n",
       "    <tr>\n",
       "      <th>238</th>\n",
       "      <td>39</td>\n",
       "      <td>4-Jun-04</td>\n",
       "      <td>Harry Potter and the Prisoner of Azkaban</td>\n",
       "      <td>130000000.0</td>\n",
       "      <td>249757726.0</td>\n",
       "      <td>796907323.0</td>\n",
       "      <td>6.130056</td>\n",
       "      <td>666907323.0</td>\n",
       "      <td>5.130056</td>\n",
       "      <td>high</td>\n",
       "      <td>536907323.0</td>\n",
       "      <td>yes</td>\n",
       "    </tr>\n",
       "  </tbody>\n",
       "</table>\n",
       "</div>"
      ],
      "text/plain": [
       "     id release_date                                     movie  \\\n",
       "238  39     4-Jun-04  Harry Potter and the Prisoner of Azkaban   \n",
       "\n",
       "     production_budget  domestic_gross  worldwide_gross  gtbratio  \\\n",
       "238        130000000.0     249757726.0      796907323.0  6.130056   \n",
       "\n",
       "             net  ntbratio budgetcat  profitability success  \n",
       "238  666907323.0  5.130056      high    536907323.0     yes  "
      ]
     },
     "execution_count": 48,
     "metadata": {},
     "output_type": "execute_result"
    }
   ],
   "source": [
    "highdf.sample(n=1)"
   ]
  },
  {
   "cell_type": "code",
   "execution_count": 100,
   "metadata": {},
   "outputs": [
    {
     "name": "stdout",
     "output_type": "stream",
     "text": [
      "budget:  129700000.0\n",
      "gross:  291079897.0\n"
     ]
    }
   ],
   "source": [
    "midtest1 = middf.sample(n=7)\n",
    "print(\"budget: \", midtest1['production_budget'].sum())\n",
    "print(\"gross: \", midtest1['worldwide_gross'].sum())"
   ]
  },
  {
   "cell_type": "code",
   "execution_count": 103,
   "metadata": {},
   "outputs": [
    {
     "name": "stdout",
     "output_type": "stream",
     "text": [
      "budget:  132104207.0\n",
      "gross:  662951940.0\n"
     ]
    }
   ],
   "source": [
    "lowtest1 = lowdf.sample(n=70)\n",
    "print(\"budget: \", lowtest1['production_budget'].sum())\n",
    "print(\"gross: \", lowtest1['worldwide_gross'].sum())"
   ]
  },
  {
   "cell_type": "markdown",
   "metadata": {},
   "source": [
    "Test 16"
   ]
  },
  {
   "cell_type": "code",
   "execution_count": 51,
   "metadata": {},
   "outputs": [
    {
     "data": {
      "text/html": [
       "<div>\n",
       "<style scoped>\n",
       "    .dataframe tbody tr th:only-of-type {\n",
       "        vertical-align: middle;\n",
       "    }\n",
       "\n",
       "    .dataframe tbody tr th {\n",
       "        vertical-align: top;\n",
       "    }\n",
       "\n",
       "    .dataframe thead th {\n",
       "        text-align: right;\n",
       "    }\n",
       "</style>\n",
       "<table border=\"1\" class=\"dataframe\">\n",
       "  <thead>\n",
       "    <tr style=\"text-align: right;\">\n",
       "      <th></th>\n",
       "      <th>id</th>\n",
       "      <th>release_date</th>\n",
       "      <th>movie</th>\n",
       "      <th>production_budget</th>\n",
       "      <th>domestic_gross</th>\n",
       "      <th>worldwide_gross</th>\n",
       "      <th>gtbratio</th>\n",
       "      <th>net</th>\n",
       "      <th>ntbratio</th>\n",
       "      <th>budgetcat</th>\n",
       "      <th>profitability</th>\n",
       "      <th>success</th>\n",
       "    </tr>\n",
       "  </thead>\n",
       "  <tbody>\n",
       "    <tr>\n",
       "      <th>256</th>\n",
       "      <td>57</td>\n",
       "      <td>18-Nov-11</td>\n",
       "      <td>The Twilight Saga: Breaking Dawn, Part 1</td>\n",
       "      <td>127500000.0</td>\n",
       "      <td>281287133.0</td>\n",
       "      <td>689420051.0</td>\n",
       "      <td>5.407216</td>\n",
       "      <td>561920051.0</td>\n",
       "      <td>4.407216</td>\n",
       "      <td>high</td>\n",
       "      <td>434420051.0</td>\n",
       "      <td>yes</td>\n",
       "    </tr>\n",
       "  </tbody>\n",
       "</table>\n",
       "</div>"
      ],
      "text/plain": [
       "     id release_date                                     movie  \\\n",
       "256  57    18-Nov-11  The Twilight Saga: Breaking Dawn, Part 1   \n",
       "\n",
       "     production_budget  domestic_gross  worldwide_gross  gtbratio  \\\n",
       "256        127500000.0     281287133.0      689420051.0  5.407216   \n",
       "\n",
       "             net  ntbratio budgetcat  profitability success  \n",
       "256  561920051.0  4.407216      high    434420051.0     yes  "
      ]
     },
     "execution_count": 51,
     "metadata": {},
     "output_type": "execute_result"
    }
   ],
   "source": [
    "highdf.sample(n=1)"
   ]
  },
  {
   "cell_type": "code",
   "execution_count": 109,
   "metadata": {},
   "outputs": [
    {
     "name": "stdout",
     "output_type": "stream",
     "text": [
      "budget:  125800000.0\n",
      "gross:  126002654.0\n"
     ]
    }
   ],
   "source": [
    "midtest1 = middf.sample(n=7)\n",
    "print(\"budget: \", midtest1['production_budget'].sum())\n",
    "print(\"gross: \", midtest1['worldwide_gross'].sum())"
   ]
  },
  {
   "cell_type": "code",
   "execution_count": 110,
   "metadata": {},
   "outputs": [
    {
     "name": "stdout",
     "output_type": "stream",
     "text": [
      "budget:  130427650.0\n",
      "gross:  953464974.0\n"
     ]
    }
   ],
   "source": [
    "lowtest1 = lowdf.sample(n=70)\n",
    "print(\"budget: \", lowtest1['production_budget'].sum())\n",
    "print(\"gross: \", lowtest1['worldwide_gross'].sum())"
   ]
  },
  {
   "cell_type": "markdown",
   "metadata": {},
   "source": [
    "Test 17"
   ]
  },
  {
   "cell_type": "code",
   "execution_count": 54,
   "metadata": {},
   "outputs": [
    {
     "data": {
      "text/html": [
       "<div>\n",
       "<style scoped>\n",
       "    .dataframe tbody tr th:only-of-type {\n",
       "        vertical-align: middle;\n",
       "    }\n",
       "\n",
       "    .dataframe tbody tr th {\n",
       "        vertical-align: top;\n",
       "    }\n",
       "\n",
       "    .dataframe thead th {\n",
       "        text-align: right;\n",
       "    }\n",
       "</style>\n",
       "<table border=\"1\" class=\"dataframe\">\n",
       "  <thead>\n",
       "    <tr style=\"text-align: right;\">\n",
       "      <th></th>\n",
       "      <th>id</th>\n",
       "      <th>release_date</th>\n",
       "      <th>movie</th>\n",
       "      <th>production_budget</th>\n",
       "      <th>domestic_gross</th>\n",
       "      <th>worldwide_gross</th>\n",
       "      <th>gtbratio</th>\n",
       "      <th>net</th>\n",
       "      <th>ntbratio</th>\n",
       "      <th>budgetcat</th>\n",
       "      <th>profitability</th>\n",
       "      <th>success</th>\n",
       "    </tr>\n",
       "  </thead>\n",
       "  <tbody>\n",
       "    <tr>\n",
       "      <th>765</th>\n",
       "      <td>66</td>\n",
       "      <td>20-Sep-96</td>\n",
       "      <td>Last Man Standing</td>\n",
       "      <td>67000000.0</td>\n",
       "      <td>18115927.0</td>\n",
       "      <td>18115927.0</td>\n",
       "      <td>0.270387</td>\n",
       "      <td>-48884073.0</td>\n",
       "      <td>-0.729613</td>\n",
       "      <td>high</td>\n",
       "      <td>-115884073.0</td>\n",
       "      <td>no</td>\n",
       "    </tr>\n",
       "  </tbody>\n",
       "</table>\n",
       "</div>"
      ],
      "text/plain": [
       "     id release_date              movie  production_budget  domestic_gross  \\\n",
       "765  66    20-Sep-96  Last Man Standing         67000000.0      18115927.0   \n",
       "\n",
       "     worldwide_gross  gtbratio         net  ntbratio budgetcat  profitability  \\\n",
       "765       18115927.0  0.270387 -48884073.0 -0.729613      high   -115884073.0   \n",
       "\n",
       "    success  \n",
       "765      no  "
      ]
     },
     "execution_count": 54,
     "metadata": {},
     "output_type": "execute_result"
    }
   ],
   "source": [
    "highdf.sample(n=1)"
   ]
  },
  {
   "cell_type": "code",
   "execution_count": 55,
   "metadata": {},
   "outputs": [
    {
     "name": "stdout",
     "output_type": "stream",
     "text": [
      "budget:  68000000.0\n",
      "gross:  199808413.0\n"
     ]
    }
   ],
   "source": [
    "midtest1 = middf.sample(n=3)\n",
    "print(\"budget: \", midtest1['production_budget'].sum())\n",
    "print(\"gross: \", midtest1['worldwide_gross'].sum())"
   ]
  },
  {
   "cell_type": "code",
   "execution_count": 112,
   "metadata": {},
   "outputs": [
    {
     "name": "stdout",
     "output_type": "stream",
     "text": [
      "budget:  63738000.0\n",
      "gross:  714822416.0\n"
     ]
    }
   ],
   "source": [
    "lowtest1 = lowdf.sample(n=35)\n",
    "print(\"budget: \", lowtest1['production_budget'].sum())\n",
    "print(\"gross: \", lowtest1['worldwide_gross'].sum())"
   ]
  },
  {
   "cell_type": "markdown",
   "metadata": {},
   "source": [
    "Test 18"
   ]
  },
  {
   "cell_type": "code",
   "execution_count": 57,
   "metadata": {},
   "outputs": [
    {
     "data": {
      "text/html": [
       "<div>\n",
       "<style scoped>\n",
       "    .dataframe tbody tr th:only-of-type {\n",
       "        vertical-align: middle;\n",
       "    }\n",
       "\n",
       "    .dataframe tbody tr th {\n",
       "        vertical-align: top;\n",
       "    }\n",
       "\n",
       "    .dataframe thead th {\n",
       "        text-align: right;\n",
       "    }\n",
       "</style>\n",
       "<table border=\"1\" class=\"dataframe\">\n",
       "  <thead>\n",
       "    <tr style=\"text-align: right;\">\n",
       "      <th></th>\n",
       "      <th>id</th>\n",
       "      <th>release_date</th>\n",
       "      <th>movie</th>\n",
       "      <th>production_budget</th>\n",
       "      <th>domestic_gross</th>\n",
       "      <th>worldwide_gross</th>\n",
       "      <th>gtbratio</th>\n",
       "      <th>net</th>\n",
       "      <th>ntbratio</th>\n",
       "      <th>budgetcat</th>\n",
       "      <th>profitability</th>\n",
       "      <th>success</th>\n",
       "    </tr>\n",
       "  </thead>\n",
       "  <tbody>\n",
       "    <tr>\n",
       "      <th>263</th>\n",
       "      <td>64</td>\n",
       "      <td>19-Nov-10</td>\n",
       "      <td>Harry Potter and the Deathly Hallows: Part I</td>\n",
       "      <td>125000000.0</td>\n",
       "      <td>296131568.0</td>\n",
       "      <td>960431568.0</td>\n",
       "      <td>7.683453</td>\n",
       "      <td>835431568.0</td>\n",
       "      <td>6.683453</td>\n",
       "      <td>high</td>\n",
       "      <td>710431568.0</td>\n",
       "      <td>yes</td>\n",
       "    </tr>\n",
       "  </tbody>\n",
       "</table>\n",
       "</div>"
      ],
      "text/plain": [
       "     id release_date                                         movie  \\\n",
       "263  64    19-Nov-10  Harry Potter and the Deathly Hallows: Part I   \n",
       "\n",
       "     production_budget  domestic_gross  worldwide_gross  gtbratio  \\\n",
       "263        125000000.0     296131568.0      960431568.0  7.683453   \n",
       "\n",
       "             net  ntbratio budgetcat  profitability success  \n",
       "263  835431568.0  6.683453      high    710431568.0     yes  "
      ]
     },
     "execution_count": 57,
     "metadata": {},
     "output_type": "execute_result"
    }
   ],
   "source": [
    "highdf.sample(n=1)"
   ]
  },
  {
   "cell_type": "code",
   "execution_count": 120,
   "metadata": {},
   "outputs": [
    {
     "name": "stdout",
     "output_type": "stream",
     "text": [
      "budget:  123400000.0\n",
      "gross:  120039412.0\n"
     ]
    }
   ],
   "source": [
    "midtest1 = middf.sample(n=7)\n",
    "print(\"budget: \", midtest1['production_budget'].sum())\n",
    "print(\"gross: \", midtest1['worldwide_gross'].sum())"
   ]
  },
  {
   "cell_type": "code",
   "execution_count": 122,
   "metadata": {},
   "outputs": [
    {
     "name": "stdout",
     "output_type": "stream",
     "text": [
      "budget:  126599247.0\n",
      "gross:  649859234.0\n"
     ]
    }
   ],
   "source": [
    "lowtest1 = lowdf.sample(n=70)\n",
    "print(\"budget: \", lowtest1['production_budget'].sum())\n",
    "print(\"gross: \", lowtest1['worldwide_gross'].sum())"
   ]
  },
  {
   "cell_type": "markdown",
   "metadata": {},
   "source": [
    "Test 19"
   ]
  },
  {
   "cell_type": "code",
   "execution_count": 60,
   "metadata": {},
   "outputs": [
    {
     "data": {
      "text/html": [
       "<div>\n",
       "<style scoped>\n",
       "    .dataframe tbody tr th:only-of-type {\n",
       "        vertical-align: middle;\n",
       "    }\n",
       "\n",
       "    .dataframe tbody tr th {\n",
       "        vertical-align: top;\n",
       "    }\n",
       "\n",
       "    .dataframe thead th {\n",
       "        text-align: right;\n",
       "    }\n",
       "</style>\n",
       "<table border=\"1\" class=\"dataframe\">\n",
       "  <thead>\n",
       "    <tr style=\"text-align: right;\">\n",
       "      <th></th>\n",
       "      <th>id</th>\n",
       "      <th>release_date</th>\n",
       "      <th>movie</th>\n",
       "      <th>production_budget</th>\n",
       "      <th>domestic_gross</th>\n",
       "      <th>worldwide_gross</th>\n",
       "      <th>gtbratio</th>\n",
       "      <th>net</th>\n",
       "      <th>ntbratio</th>\n",
       "      <th>budgetcat</th>\n",
       "      <th>profitability</th>\n",
       "      <th>success</th>\n",
       "    </tr>\n",
       "  </thead>\n",
       "  <tbody>\n",
       "    <tr>\n",
       "      <th>137</th>\n",
       "      <td>38</td>\n",
       "      <td>16-Jul-10</td>\n",
       "      <td>Inception</td>\n",
       "      <td>160000000.0</td>\n",
       "      <td>292576195.0</td>\n",
       "      <td>835524642.0</td>\n",
       "      <td>5.222029</td>\n",
       "      <td>675524642.0</td>\n",
       "      <td>4.222029</td>\n",
       "      <td>high</td>\n",
       "      <td>515524642.0</td>\n",
       "      <td>yes</td>\n",
       "    </tr>\n",
       "  </tbody>\n",
       "</table>\n",
       "</div>"
      ],
      "text/plain": [
       "     id release_date      movie  production_budget  domestic_gross  \\\n",
       "137  38    16-Jul-10  Inception        160000000.0     292576195.0   \n",
       "\n",
       "     worldwide_gross  gtbratio          net  ntbratio budgetcat  \\\n",
       "137      835524642.0  5.222029  675524642.0  4.222029      high   \n",
       "\n",
       "     profitability success  \n",
       "137    515524642.0     yes  "
      ]
     },
     "execution_count": 60,
     "metadata": {},
     "output_type": "execute_result"
    }
   ],
   "source": [
    "highdf.sample(n=1)"
   ]
  },
  {
   "cell_type": "code",
   "execution_count": 127,
   "metadata": {},
   "outputs": [
    {
     "name": "stdout",
     "output_type": "stream",
     "text": [
      "budget:  168000000.0\n",
      "gross:  335697736.0\n"
     ]
    }
   ],
   "source": [
    "midtest1 = middf.sample(n=7)\n",
    "print(\"budget: \", midtest1['production_budget'].sum())\n",
    "print(\"gross: \", midtest1['worldwide_gross'].sum())"
   ]
  },
  {
   "cell_type": "code",
   "execution_count": 130,
   "metadata": {},
   "outputs": [
    {
     "name": "stdout",
     "output_type": "stream",
     "text": [
      "budget:  155149000.0\n",
      "gross:  862948402.0\n"
     ]
    }
   ],
   "source": [
    "lowtest1 = lowdf.sample(n=90)\n",
    "print(\"budget: \", lowtest1['production_budget'].sum())\n",
    "print(\"gross: \", lowtest1['worldwide_gross'].sum())"
   ]
  },
  {
   "cell_type": "markdown",
   "metadata": {},
   "source": [
    "Test 20"
   ]
  },
  {
   "cell_type": "code",
   "execution_count": 63,
   "metadata": {},
   "outputs": [
    {
     "data": {
      "text/html": [
       "<div>\n",
       "<style scoped>\n",
       "    .dataframe tbody tr th:only-of-type {\n",
       "        vertical-align: middle;\n",
       "    }\n",
       "\n",
       "    .dataframe tbody tr th {\n",
       "        vertical-align: top;\n",
       "    }\n",
       "\n",
       "    .dataframe thead th {\n",
       "        text-align: right;\n",
       "    }\n",
       "</style>\n",
       "<table border=\"1\" class=\"dataframe\">\n",
       "  <thead>\n",
       "    <tr style=\"text-align: right;\">\n",
       "      <th></th>\n",
       "      <th>id</th>\n",
       "      <th>release_date</th>\n",
       "      <th>movie</th>\n",
       "      <th>production_budget</th>\n",
       "      <th>domestic_gross</th>\n",
       "      <th>worldwide_gross</th>\n",
       "      <th>gtbratio</th>\n",
       "      <th>net</th>\n",
       "      <th>ntbratio</th>\n",
       "      <th>budgetcat</th>\n",
       "      <th>profitability</th>\n",
       "      <th>success</th>\n",
       "    </tr>\n",
       "  </thead>\n",
       "  <tbody>\n",
       "    <tr>\n",
       "      <th>61</th>\n",
       "      <td>62</td>\n",
       "      <td>17-Jun-11</td>\n",
       "      <td>Green Lantern</td>\n",
       "      <td>200000000.0</td>\n",
       "      <td>116601172.0</td>\n",
       "      <td>219535492.0</td>\n",
       "      <td>1.097677</td>\n",
       "      <td>19535492.0</td>\n",
       "      <td>0.097677</td>\n",
       "      <td>high</td>\n",
       "      <td>-180464508.0</td>\n",
       "      <td>no</td>\n",
       "    </tr>\n",
       "  </tbody>\n",
       "</table>\n",
       "</div>"
      ],
      "text/plain": [
       "    id release_date          movie  production_budget  domestic_gross  \\\n",
       "61  62    17-Jun-11  Green Lantern        200000000.0     116601172.0   \n",
       "\n",
       "    worldwide_gross  gtbratio         net  ntbratio budgetcat  profitability  \\\n",
       "61      219535492.0  1.097677  19535492.0  0.097677      high   -180464508.0   \n",
       "\n",
       "   success  \n",
       "61      no  "
      ]
     },
     "execution_count": 63,
     "metadata": {},
     "output_type": "execute_result"
    }
   ],
   "source": [
    "highdf.sample(n=1)"
   ]
  },
  {
   "cell_type": "code",
   "execution_count": 133,
   "metadata": {},
   "outputs": [
    {
     "name": "stdout",
     "output_type": "stream",
     "text": [
      "budget:  202000000.0\n",
      "gross:  950478886.0\n"
     ]
    }
   ],
   "source": [
    "midtest1 = middf.sample(n=10)\n",
    "print(\"budget: \", midtest1['production_budget'].sum())\n",
    "print(\"gross: \", midtest1['worldwide_gross'].sum())"
   ]
  },
  {
   "cell_type": "code",
   "execution_count": 140,
   "metadata": {},
   "outputs": [
    {
     "name": "stdout",
     "output_type": "stream",
     "text": [
      "budget:  196303783.0\n",
      "gross:  1104353814.0\n"
     ]
    }
   ],
   "source": [
    "lowtest1 = lowdf.sample(n=110)\n",
    "print(\"budget: \", lowtest1['production_budget'].sum())\n",
    "print(\"gross: \", lowtest1['worldwide_gross'].sum())"
   ]
  }
 ],
 "metadata": {
  "kernelspec": {
   "display_name": "Python 3",
   "language": "python",
   "name": "python3"
  },
  "language_info": {
   "codemirror_mode": {
    "name": "ipython",
    "version": 3
   },
   "file_extension": ".py",
   "mimetype": "text/x-python",
   "name": "python",
   "nbconvert_exporter": "python",
   "pygments_lexer": "ipython3",
   "version": "3.8.5"
  }
 },
 "nbformat": 4,
 "nbformat_minor": 2
}
