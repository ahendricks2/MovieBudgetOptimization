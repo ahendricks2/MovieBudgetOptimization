{
 "cells": [
  {
   "cell_type": "markdown",
   "metadata": {},
   "source": [
    "# Budget Optimization Tests 11-20"
   ]
  },
  {
   "cell_type": "markdown",
   "metadata": {},
   "source": [
    "## Loading Data and Converting Data Types"
   ]
  },
  {
   "cell_type": "code",
   "execution_count": 1,
   "metadata": {},
   "outputs": [],
   "source": [
    "import pandas as pd"
   ]
  },
  {
   "cell_type": "code",
   "execution_count": 2,
   "metadata": {},
   "outputs": [],
   "source": [
    "budgetsdf = pd.read_csv('Data/tn.movie_budgets.csv')"
   ]
  },
  {
   "cell_type": "code",
   "execution_count": 3,
   "metadata": {},
   "outputs": [],
   "source": [
    "df = budgetsdf.copy()"
   ]
  },
  {
   "cell_type": "code",
   "execution_count": 4,
   "metadata": {},
   "outputs": [],
   "source": [
    "df['worldwide_gross'] = df['worldwide_gross'].apply(lambda x: x.replace('$', '').replace(',', ''))\n",
    "df['domestic_gross'] = df['domestic_gross'].apply(lambda x: x.replace('$', '').replace(',', ''))\n",
    "df['production_budget'] = df['production_budget'].apply(lambda x: x.replace('$', '').replace(',', ''))"
   ]
  },
  {
   "cell_type": "code",
   "execution_count": 5,
   "metadata": {},
   "outputs": [],
   "source": [
    "df['worldwide_gross'] = df['worldwide_gross'].astype(float)\n",
    "df['domestic_gross'] = df['domestic_gross'].astype(float)\n",
    "df['production_budget'] = df['production_budget'].astype(float)"
   ]
  },
  {
   "cell_type": "markdown",
   "metadata": {},
   "source": [
    "## Calculating Gross to Budget Ratio and Creating Budget Categories"
   ]
  },
  {
   "cell_type": "code",
   "execution_count": 6,
   "metadata": {},
   "outputs": [],
   "source": [
    "df['gtbratio'] = df['worldwide_gross']/df['production_budget']"
   ]
  },
  {
   "cell_type": "code",
   "execution_count": 7,
   "metadata": {},
   "outputs": [],
   "source": [
    "# Source for Category Parameters: https://www.studiobinder.com/blog/production-budget/#:~:text=Film%20Budget%20Examples,-Low%2Dend%20movie&text=There's%20some%20conjecture%20as%20to,(2007)%20%E2%80%93%20Budget%3A%20%247%2C000\n",
    "\n",
    "df['budgetcat'] = ['low' if x < 5000000 else 'mid' if x < 50000000 else 'high' for x in df['production_budget']]"
   ]
  },
  {
   "cell_type": "code",
   "execution_count": 8,
   "metadata": {},
   "outputs": [],
   "source": [
    "lowdf = df.loc[df['budgetcat'] == 'low']\n",
    "middf = df.loc[df['budgetcat'] == 'mid']\n",
    "highdf = df.loc[df['budgetcat'] == 'high']"
   ]
  },
  {
   "cell_type": "markdown",
   "metadata": {},
   "source": [
    "## Records of Tests 21-30"
   ]
  },
  {
   "cell_type": "markdown",
   "metadata": {},
   "source": [
    "Test 21"
   ]
  },
  {
   "cell_type": "code",
   "execution_count": 36,
   "metadata": {
    "scrolled": true
   },
   "outputs": [
    {
     "data": {
      "text/html": [
       "<div>\n",
       "<style scoped>\n",
       "    .dataframe tbody tr th:only-of-type {\n",
       "        vertical-align: middle;\n",
       "    }\n",
       "\n",
       "    .dataframe tbody tr th {\n",
       "        vertical-align: top;\n",
       "    }\n",
       "\n",
       "    .dataframe thead th {\n",
       "        text-align: right;\n",
       "    }\n",
       "</style>\n",
       "<table border=\"1\" class=\"dataframe\">\n",
       "  <thead>\n",
       "    <tr style=\"text-align: right;\">\n",
       "      <th></th>\n",
       "      <th>id</th>\n",
       "      <th>release_date</th>\n",
       "      <th>movie</th>\n",
       "      <th>production_budget</th>\n",
       "      <th>domestic_gross</th>\n",
       "      <th>worldwide_gross</th>\n",
       "      <th>gtbratio</th>\n",
       "      <th>net</th>\n",
       "      <th>ntbratio</th>\n",
       "      <th>budgetcat</th>\n",
       "      <th>profitability</th>\n",
       "      <th>success</th>\n",
       "    </tr>\n",
       "  </thead>\n",
       "  <tbody>\n",
       "    <tr>\n",
       "      <th>1056</th>\n",
       "      <td>57</td>\n",
       "      <td>5-Aug-05</td>\n",
       "      <td>The Dukes of Hazzard</td>\n",
       "      <td>53000000.0</td>\n",
       "      <td>80270227.0</td>\n",
       "      <td>109848461.0</td>\n",
       "      <td>2.072612</td>\n",
       "      <td>56848461.0</td>\n",
       "      <td>1.072612</td>\n",
       "      <td>high</td>\n",
       "      <td>3848461.0</td>\n",
       "      <td>yes</td>\n",
       "    </tr>\n",
       "  </tbody>\n",
       "</table>\n",
       "</div>"
      ],
      "text/plain": [
       "      id release_date                 movie  production_budget  \\\n",
       "1056  57     5-Aug-05  The Dukes of Hazzard         53000000.0   \n",
       "\n",
       "      domestic_gross  worldwide_gross  gtbratio         net  ntbratio  \\\n",
       "1056      80270227.0      109848461.0  2.072612  56848461.0  1.072612   \n",
       "\n",
       "     budgetcat  profitability success  \n",
       "1056      high      3848461.0     yes  "
      ]
     },
     "execution_count": 36,
     "metadata": {},
     "output_type": "execute_result"
    }
   ],
   "source": [
    "highdf.sample(n=1)"
   ]
  },
  {
   "cell_type": "code",
   "execution_count": 40,
   "metadata": {},
   "outputs": [
    {
     "name": "stdout",
     "output_type": "stream",
     "text": [
      "budget:  47000000.0\n",
      "gross:  232082644.0\n"
     ]
    }
   ],
   "source": [
    "midtest1 = middf.sample(n=3)\n",
    "print(\"budget: \", midtest1['production_budget'].sum())\n",
    "print(\"gross: \", midtest1['worldwide_gross'].sum())"
   ]
  },
  {
   "cell_type": "code",
   "execution_count": 42,
   "metadata": {},
   "outputs": [
    {
     "name": "stdout",
     "output_type": "stream",
     "text": [
      "budget:  57162000.0\n",
      "gross:  427676039.0\n"
     ]
    }
   ],
   "source": [
    "lowtest1 = lowdf.sample(n=35)\n",
    "print(\"budget: \", lowtest1['production_budget'].sum())\n",
    "print(\"gross: \", lowtest1['worldwide_gross'].sum())"
   ]
  },
  {
   "cell_type": "markdown",
   "metadata": {},
   "source": [
    "Test 22"
   ]
  },
  {
   "cell_type": "code",
   "execution_count": 39,
   "metadata": {},
   "outputs": [
    {
     "data": {
      "text/html": [
       "<div>\n",
       "<style scoped>\n",
       "    .dataframe tbody tr th:only-of-type {\n",
       "        vertical-align: middle;\n",
       "    }\n",
       "\n",
       "    .dataframe tbody tr th {\n",
       "        vertical-align: top;\n",
       "    }\n",
       "\n",
       "    .dataframe thead th {\n",
       "        text-align: right;\n",
       "    }\n",
       "</style>\n",
       "<table border=\"1\" class=\"dataframe\">\n",
       "  <thead>\n",
       "    <tr style=\"text-align: right;\">\n",
       "      <th></th>\n",
       "      <th>id</th>\n",
       "      <th>release_date</th>\n",
       "      <th>movie</th>\n",
       "      <th>production_budget</th>\n",
       "      <th>domestic_gross</th>\n",
       "      <th>worldwide_gross</th>\n",
       "      <th>gtbratio</th>\n",
       "      <th>net</th>\n",
       "      <th>ntbratio</th>\n",
       "      <th>budgetcat</th>\n",
       "      <th>profitability</th>\n",
       "      <th>success</th>\n",
       "    </tr>\n",
       "  </thead>\n",
       "  <tbody>\n",
       "    <tr>\n",
       "      <th>624</th>\n",
       "      <td>25</td>\n",
       "      <td>30-Jun-00</td>\n",
       "      <td>The Adventures of Rocky &amp; Bullwinkle</td>\n",
       "      <td>76000000.0</td>\n",
       "      <td>26000610.0</td>\n",
       "      <td>35129610.0</td>\n",
       "      <td>0.462232</td>\n",
       "      <td>-40870390.0</td>\n",
       "      <td>-0.537768</td>\n",
       "      <td>high</td>\n",
       "      <td>-116870390.0</td>\n",
       "      <td>no</td>\n",
       "    </tr>\n",
       "  </tbody>\n",
       "</table>\n",
       "</div>"
      ],
      "text/plain": [
       "     id release_date                                 movie  production_budget  \\\n",
       "624  25    30-Jun-00  The Adventures of Rocky & Bullwinkle         76000000.0   \n",
       "\n",
       "     domestic_gross  worldwide_gross  gtbratio         net  ntbratio  \\\n",
       "624      26000610.0       35129610.0  0.462232 -40870390.0 -0.537768   \n",
       "\n",
       "    budgetcat  profitability success  \n",
       "624      high   -116870390.0      no  "
      ]
     },
     "execution_count": 39,
     "metadata": {},
     "output_type": "execute_result"
    }
   ],
   "source": [
    "highdf.sample(n=1)"
   ]
  },
  {
   "cell_type": "code",
   "execution_count": 50,
   "metadata": {},
   "outputs": [
    {
     "name": "stdout",
     "output_type": "stream",
     "text": [
      "budget:  72000000.0\n",
      "gross:  292398521.0\n"
     ]
    }
   ],
   "source": [
    "midtest1 = middf.sample(n=4)\n",
    "print(\"budget: \", midtest1['production_budget'].sum())\n",
    "print(\"gross: \", midtest1['worldwide_gross'].sum())"
   ]
  },
  {
   "cell_type": "code",
   "execution_count": 55,
   "metadata": {},
   "outputs": [
    {
     "name": "stdout",
     "output_type": "stream",
     "text": [
      "budget:  73320000.0\n",
      "gross:  487214343.0\n"
     ]
    }
   ],
   "source": [
    "lowtest1 = lowdf.sample(n=40)\n",
    "print(\"budget: \", lowtest1['production_budget'].sum())\n",
    "print(\"gross: \", lowtest1['worldwide_gross'].sum())"
   ]
  },
  {
   "cell_type": "markdown",
   "metadata": {},
   "source": [
    "Test 23"
   ]
  },
  {
   "cell_type": "code",
   "execution_count": 42,
   "metadata": {},
   "outputs": [
    {
     "data": {
      "text/html": [
       "<div>\n",
       "<style scoped>\n",
       "    .dataframe tbody tr th:only-of-type {\n",
       "        vertical-align: middle;\n",
       "    }\n",
       "\n",
       "    .dataframe tbody tr th {\n",
       "        vertical-align: top;\n",
       "    }\n",
       "\n",
       "    .dataframe thead th {\n",
       "        text-align: right;\n",
       "    }\n",
       "</style>\n",
       "<table border=\"1\" class=\"dataframe\">\n",
       "  <thead>\n",
       "    <tr style=\"text-align: right;\">\n",
       "      <th></th>\n",
       "      <th>id</th>\n",
       "      <th>release_date</th>\n",
       "      <th>movie</th>\n",
       "      <th>production_budget</th>\n",
       "      <th>domestic_gross</th>\n",
       "      <th>worldwide_gross</th>\n",
       "      <th>gtbratio</th>\n",
       "      <th>net</th>\n",
       "      <th>ntbratio</th>\n",
       "      <th>budgetcat</th>\n",
       "      <th>profitability</th>\n",
       "      <th>success</th>\n",
       "    </tr>\n",
       "  </thead>\n",
       "  <tbody>\n",
       "    <tr>\n",
       "      <th>1114</th>\n",
       "      <td>15</td>\n",
       "      <td>23-Sep-11</td>\n",
       "      <td>Moneyball</td>\n",
       "      <td>50000000.0</td>\n",
       "      <td>75605492.0</td>\n",
       "      <td>111300835.0</td>\n",
       "      <td>2.226017</td>\n",
       "      <td>61300835.0</td>\n",
       "      <td>1.226017</td>\n",
       "      <td>high</td>\n",
       "      <td>11300835.0</td>\n",
       "      <td>yes</td>\n",
       "    </tr>\n",
       "  </tbody>\n",
       "</table>\n",
       "</div>"
      ],
      "text/plain": [
       "      id release_date      movie  production_budget  domestic_gross  \\\n",
       "1114  15    23-Sep-11  Moneyball         50000000.0      75605492.0   \n",
       "\n",
       "      worldwide_gross  gtbratio         net  ntbratio budgetcat  \\\n",
       "1114      111300835.0  2.226017  61300835.0  1.226017      high   \n",
       "\n",
       "      profitability success  \n",
       "1114     11300835.0     yes  "
      ]
     },
     "execution_count": 42,
     "metadata": {},
     "output_type": "execute_result"
    }
   ],
   "source": [
    "highdf.sample(n=1)"
   ]
  },
  {
   "cell_type": "code",
   "execution_count": 43,
   "metadata": {},
   "outputs": [
    {
     "name": "stdout",
     "output_type": "stream",
     "text": [
      "budget:  55500000.0\n",
      "gross:  143009070.0\n"
     ]
    }
   ],
   "source": [
    "midtest1 = middf.sample(n=4)\n",
    "print(\"budget: \", midtest1['production_budget'].sum())\n",
    "print(\"gross: \", midtest1['worldwide_gross'].sum())"
   ]
  },
  {
   "cell_type": "code",
   "execution_count": 56,
   "metadata": {},
   "outputs": [
    {
     "name": "stdout",
     "output_type": "stream",
     "text": [
      "budget:  55031000.0\n",
      "gross:  194533554.0\n"
     ]
    }
   ],
   "source": [
    "lowtest1 = lowdf.sample(n=30)\n",
    "print(\"budget: \", lowtest1['production_budget'].sum())\n",
    "print(\"gross: \", lowtest1['worldwide_gross'].sum())"
   ]
  },
  {
   "cell_type": "markdown",
   "metadata": {},
   "source": [
    "Test 24"
   ]
  },
  {
   "cell_type": "code",
   "execution_count": 45,
   "metadata": {},
   "outputs": [
    {
     "data": {
      "text/html": [
       "<div>\n",
       "<style scoped>\n",
       "    .dataframe tbody tr th:only-of-type {\n",
       "        vertical-align: middle;\n",
       "    }\n",
       "\n",
       "    .dataframe tbody tr th {\n",
       "        vertical-align: top;\n",
       "    }\n",
       "\n",
       "    .dataframe thead th {\n",
       "        text-align: right;\n",
       "    }\n",
       "</style>\n",
       "<table border=\"1\" class=\"dataframe\">\n",
       "  <thead>\n",
       "    <tr style=\"text-align: right;\">\n",
       "      <th></th>\n",
       "      <th>id</th>\n",
       "      <th>release_date</th>\n",
       "      <th>movie</th>\n",
       "      <th>production_budget</th>\n",
       "      <th>domestic_gross</th>\n",
       "      <th>worldwide_gross</th>\n",
       "      <th>gtbratio</th>\n",
       "      <th>net</th>\n",
       "      <th>ntbratio</th>\n",
       "      <th>budgetcat</th>\n",
       "      <th>profitability</th>\n",
       "      <th>success</th>\n",
       "    </tr>\n",
       "  </thead>\n",
       "  <tbody>\n",
       "    <tr>\n",
       "      <th>309</th>\n",
       "      <td>10</td>\n",
       "      <td>22-Apr-16</td>\n",
       "      <td>The Huntsman: Winterâs War</td>\n",
       "      <td>115000000.0</td>\n",
       "      <td>48003015.0</td>\n",
       "      <td>165149302.0</td>\n",
       "      <td>1.436081</td>\n",
       "      <td>50149302.0</td>\n",
       "      <td>0.436081</td>\n",
       "      <td>high</td>\n",
       "      <td>-64850698.0</td>\n",
       "      <td>no</td>\n",
       "    </tr>\n",
       "  </tbody>\n",
       "</table>\n",
       "</div>"
      ],
      "text/plain": [
       "     id release_date                         movie  production_budget  \\\n",
       "309  10    22-Apr-16  The Huntsman: Winterâs War        115000000.0   \n",
       "\n",
       "     domestic_gross  worldwide_gross  gtbratio         net  ntbratio  \\\n",
       "309      48003015.0      165149302.0  1.436081  50149302.0  0.436081   \n",
       "\n",
       "    budgetcat  profitability success  \n",
       "309      high    -64850698.0      no  "
      ]
     },
     "execution_count": 45,
     "metadata": {},
     "output_type": "execute_result"
    }
   ],
   "source": [
    "highdf.sample(n=1)"
   ]
  },
  {
   "cell_type": "code",
   "execution_count": 62,
   "metadata": {},
   "outputs": [
    {
     "name": "stdout",
     "output_type": "stream",
     "text": [
      "budget:  121500000.0\n",
      "gross:  460021001.0\n"
     ]
    }
   ],
   "source": [
    "midtest1 = middf.sample(n=6)\n",
    "print(\"budget: \", midtest1['production_budget'].sum())\n",
    "print(\"gross: \", midtest1['worldwide_gross'].sum())"
   ]
  },
  {
   "cell_type": "code",
   "execution_count": 47,
   "metadata": {},
   "outputs": [
    {
     "name": "stdout",
     "output_type": "stream",
     "text": [
      "budget:  108114000.0\n",
      "gross:  454104429.0\n"
     ]
    }
   ],
   "source": [
    "lowtest1 = lowdf.sample(n=60)\n",
    "print(\"budget: \", lowtest1['production_budget'].sum())\n",
    "print(\"gross: \", lowtest1['worldwide_gross'].sum())"
   ]
  },
  {
   "cell_type": "markdown",
   "metadata": {},
   "source": [
    "Test 25"
   ]
  },
  {
   "cell_type": "code",
   "execution_count": 48,
   "metadata": {},
   "outputs": [
    {
     "data": {
      "text/html": [
       "<div>\n",
       "<style scoped>\n",
       "    .dataframe tbody tr th:only-of-type {\n",
       "        vertical-align: middle;\n",
       "    }\n",
       "\n",
       "    .dataframe tbody tr th {\n",
       "        vertical-align: top;\n",
       "    }\n",
       "\n",
       "    .dataframe thead th {\n",
       "        text-align: right;\n",
       "    }\n",
       "</style>\n",
       "<table border=\"1\" class=\"dataframe\">\n",
       "  <thead>\n",
       "    <tr style=\"text-align: right;\">\n",
       "      <th></th>\n",
       "      <th>id</th>\n",
       "      <th>release_date</th>\n",
       "      <th>movie</th>\n",
       "      <th>production_budget</th>\n",
       "      <th>domestic_gross</th>\n",
       "      <th>worldwide_gross</th>\n",
       "      <th>gtbratio</th>\n",
       "      <th>net</th>\n",
       "      <th>ntbratio</th>\n",
       "      <th>budgetcat</th>\n",
       "      <th>profitability</th>\n",
       "      <th>success</th>\n",
       "    </tr>\n",
       "  </thead>\n",
       "  <tbody>\n",
       "    <tr>\n",
       "      <th>884</th>\n",
       "      <td>85</td>\n",
       "      <td>21-Oct-16</td>\n",
       "      <td>Jack Reacher: Never Go Back</td>\n",
       "      <td>60000000.0</td>\n",
       "      <td>58697076.0</td>\n",
       "      <td>159946489.0</td>\n",
       "      <td>2.665775</td>\n",
       "      <td>99946489.0</td>\n",
       "      <td>1.665775</td>\n",
       "      <td>high</td>\n",
       "      <td>39946489.0</td>\n",
       "      <td>yes</td>\n",
       "    </tr>\n",
       "  </tbody>\n",
       "</table>\n",
       "</div>"
      ],
      "text/plain": [
       "     id release_date                        movie  production_budget  \\\n",
       "884  85    21-Oct-16  Jack Reacher: Never Go Back         60000000.0   \n",
       "\n",
       "     domestic_gross  worldwide_gross  gtbratio         net  ntbratio  \\\n",
       "884      58697076.0      159946489.0  2.665775  99946489.0  1.665775   \n",
       "\n",
       "    budgetcat  profitability success  \n",
       "884      high     39946489.0     yes  "
      ]
     },
     "execution_count": 48,
     "metadata": {},
     "output_type": "execute_result"
    }
   ],
   "source": [
    "highdf.sample(n=1)"
   ]
  },
  {
   "cell_type": "code",
   "execution_count": 63,
   "metadata": {},
   "outputs": [
    {
     "name": "stdout",
     "output_type": "stream",
     "text": [
      "budget:  61000000.0\n",
      "gross:  211999631.0\n"
     ]
    }
   ],
   "source": [
    "midtest1 = middf.sample(n=4)\n",
    "print(\"budget: \", midtest1['production_budget'].sum())\n",
    "print(\"gross: \", midtest1['worldwide_gross'].sum())"
   ]
  },
  {
   "cell_type": "code",
   "execution_count": 65,
   "metadata": {},
   "outputs": [
    {
     "name": "stdout",
     "output_type": "stream",
     "text": [
      "budget:  62643848.0\n",
      "gross:  514733089.0\n"
     ]
    }
   ],
   "source": [
    "lowtest1 = lowdf.sample(n=35)\n",
    "print(\"budget: \", lowtest1['production_budget'].sum())\n",
    "print(\"gross: \", lowtest1['worldwide_gross'].sum())"
   ]
  },
  {
   "cell_type": "markdown",
   "metadata": {},
   "source": [
    "Test 26"
   ]
  },
  {
   "cell_type": "code",
   "execution_count": 51,
   "metadata": {},
   "outputs": [
    {
     "data": {
      "text/html": [
       "<div>\n",
       "<style scoped>\n",
       "    .dataframe tbody tr th:only-of-type {\n",
       "        vertical-align: middle;\n",
       "    }\n",
       "\n",
       "    .dataframe tbody tr th {\n",
       "        vertical-align: top;\n",
       "    }\n",
       "\n",
       "    .dataframe thead th {\n",
       "        text-align: right;\n",
       "    }\n",
       "</style>\n",
       "<table border=\"1\" class=\"dataframe\">\n",
       "  <thead>\n",
       "    <tr style=\"text-align: right;\">\n",
       "      <th></th>\n",
       "      <th>id</th>\n",
       "      <th>release_date</th>\n",
       "      <th>movie</th>\n",
       "      <th>production_budget</th>\n",
       "      <th>domestic_gross</th>\n",
       "      <th>worldwide_gross</th>\n",
       "      <th>gtbratio</th>\n",
       "      <th>net</th>\n",
       "      <th>ntbratio</th>\n",
       "      <th>budgetcat</th>\n",
       "      <th>profitability</th>\n",
       "      <th>success</th>\n",
       "    </tr>\n",
       "  </thead>\n",
       "  <tbody>\n",
       "    <tr>\n",
       "      <th>559</th>\n",
       "      <td>60</td>\n",
       "      <td>26-Sep-08</td>\n",
       "      <td>Eagle Eye</td>\n",
       "      <td>80000000.0</td>\n",
       "      <td>101440743.0</td>\n",
       "      <td>180585259.0</td>\n",
       "      <td>2.257316</td>\n",
       "      <td>100585259.0</td>\n",
       "      <td>1.257316</td>\n",
       "      <td>high</td>\n",
       "      <td>20585259.0</td>\n",
       "      <td>yes</td>\n",
       "    </tr>\n",
       "  </tbody>\n",
       "</table>\n",
       "</div>"
      ],
      "text/plain": [
       "     id release_date      movie  production_budget  domestic_gross  \\\n",
       "559  60    26-Sep-08  Eagle Eye         80000000.0     101440743.0   \n",
       "\n",
       "     worldwide_gross  gtbratio          net  ntbratio budgetcat  \\\n",
       "559      180585259.0  2.257316  100585259.0  1.257316      high   \n",
       "\n",
       "     profitability success  \n",
       "559     20585259.0     yes  "
      ]
     },
     "execution_count": 51,
     "metadata": {},
     "output_type": "execute_result"
    }
   ],
   "source": [
    "highdf.sample(n=1)"
   ]
  },
  {
   "cell_type": "code",
   "execution_count": 73,
   "metadata": {},
   "outputs": [
    {
     "name": "stdout",
     "output_type": "stream",
     "text": [
      "budget:  76700000.0\n",
      "gross:  74499888.0\n"
     ]
    }
   ],
   "source": [
    "midtest1 = middf.sample(n=5)\n",
    "print(\"budget: \", midtest1['production_budget'].sum())\n",
    "print(\"gross: \", midtest1['worldwide_gross'].sum())"
   ]
  },
  {
   "cell_type": "code",
   "execution_count": 74,
   "metadata": {},
   "outputs": [
    {
     "name": "stdout",
     "output_type": "stream",
     "text": [
      "budget:  85509373.0\n",
      "gross:  283329249.0\n"
     ]
    }
   ],
   "source": [
    "lowtest1 = lowdf.sample(n=40)\n",
    "print(\"budget: \", lowtest1['production_budget'].sum())\n",
    "print(\"gross: \", lowtest1['worldwide_gross'].sum())"
   ]
  },
  {
   "cell_type": "markdown",
   "metadata": {},
   "source": [
    "Test 27"
   ]
  },
  {
   "cell_type": "code",
   "execution_count": 54,
   "metadata": {},
   "outputs": [
    {
     "data": {
      "text/html": [
       "<div>\n",
       "<style scoped>\n",
       "    .dataframe tbody tr th:only-of-type {\n",
       "        vertical-align: middle;\n",
       "    }\n",
       "\n",
       "    .dataframe tbody tr th {\n",
       "        vertical-align: top;\n",
       "    }\n",
       "\n",
       "    .dataframe thead th {\n",
       "        text-align: right;\n",
       "    }\n",
       "</style>\n",
       "<table border=\"1\" class=\"dataframe\">\n",
       "  <thead>\n",
       "    <tr style=\"text-align: right;\">\n",
       "      <th></th>\n",
       "      <th>id</th>\n",
       "      <th>release_date</th>\n",
       "      <th>movie</th>\n",
       "      <th>production_budget</th>\n",
       "      <th>domestic_gross</th>\n",
       "      <th>worldwide_gross</th>\n",
       "      <th>gtbratio</th>\n",
       "      <th>net</th>\n",
       "      <th>ntbratio</th>\n",
       "      <th>budgetcat</th>\n",
       "      <th>profitability</th>\n",
       "      <th>success</th>\n",
       "    </tr>\n",
       "  </thead>\n",
       "  <tbody>\n",
       "    <tr>\n",
       "      <th>710</th>\n",
       "      <td>11</td>\n",
       "      <td>13-Aug-04</td>\n",
       "      <td>AVP: Alien Vs. Predator</td>\n",
       "      <td>70000000.0</td>\n",
       "      <td>80281096.0</td>\n",
       "      <td>172543519.0</td>\n",
       "      <td>2.464907</td>\n",
       "      <td>102543519.0</td>\n",
       "      <td>1.464907</td>\n",
       "      <td>high</td>\n",
       "      <td>32543519.0</td>\n",
       "      <td>yes</td>\n",
       "    </tr>\n",
       "  </tbody>\n",
       "</table>\n",
       "</div>"
      ],
      "text/plain": [
       "     id release_date                    movie  production_budget  \\\n",
       "710  11    13-Aug-04  AVP: Alien Vs. Predator         70000000.0   \n",
       "\n",
       "     domestic_gross  worldwide_gross  gtbratio          net  ntbratio  \\\n",
       "710      80281096.0      172543519.0  2.464907  102543519.0  1.464907   \n",
       "\n",
       "    budgetcat  profitability success  \n",
       "710      high     32543519.0     yes  "
      ]
     },
     "execution_count": 54,
     "metadata": {},
     "output_type": "execute_result"
    }
   ],
   "source": [
    "highdf.sample(n=1)"
   ]
  },
  {
   "cell_type": "code",
   "execution_count": 55,
   "metadata": {},
   "outputs": [
    {
     "name": "stdout",
     "output_type": "stream",
     "text": [
      "budget:  73500000.0\n",
      "gross:  306625500.0\n"
     ]
    }
   ],
   "source": [
    "midtest1 = middf.sample(n=3)\n",
    "print(\"budget: \", midtest1['production_budget'].sum())\n",
    "print(\"gross: \", midtest1['worldwide_gross'].sum())"
   ]
  },
  {
   "cell_type": "code",
   "execution_count": 75,
   "metadata": {},
   "outputs": [
    {
     "name": "stdout",
     "output_type": "stream",
     "text": [
      "budget:  74525000.0\n",
      "gross:  86466753.0\n"
     ]
    }
   ],
   "source": [
    "lowtest1 = lowdf.sample(n=35)\n",
    "print(\"budget: \", lowtest1['production_budget'].sum())\n",
    "print(\"gross: \", lowtest1['worldwide_gross'].sum())"
   ]
  },
  {
   "cell_type": "markdown",
   "metadata": {},
   "source": [
    "Test 28"
   ]
  },
  {
   "cell_type": "code",
   "execution_count": 57,
   "metadata": {},
   "outputs": [
    {
     "data": {
      "text/html": [
       "<div>\n",
       "<style scoped>\n",
       "    .dataframe tbody tr th:only-of-type {\n",
       "        vertical-align: middle;\n",
       "    }\n",
       "\n",
       "    .dataframe tbody tr th {\n",
       "        vertical-align: top;\n",
       "    }\n",
       "\n",
       "    .dataframe thead th {\n",
       "        text-align: right;\n",
       "    }\n",
       "</style>\n",
       "<table border=\"1\" class=\"dataframe\">\n",
       "  <thead>\n",
       "    <tr style=\"text-align: right;\">\n",
       "      <th></th>\n",
       "      <th>id</th>\n",
       "      <th>release_date</th>\n",
       "      <th>movie</th>\n",
       "      <th>production_budget</th>\n",
       "      <th>domestic_gross</th>\n",
       "      <th>worldwide_gross</th>\n",
       "      <th>gtbratio</th>\n",
       "      <th>net</th>\n",
       "      <th>ntbratio</th>\n",
       "      <th>budgetcat</th>\n",
       "      <th>profitability</th>\n",
       "      <th>success</th>\n",
       "    </tr>\n",
       "  </thead>\n",
       "  <tbody>\n",
       "    <tr>\n",
       "      <th>787</th>\n",
       "      <td>88</td>\n",
       "      <td>4-Aug-00</td>\n",
       "      <td>Space Cowboys</td>\n",
       "      <td>65000000.0</td>\n",
       "      <td>90454043.0</td>\n",
       "      <td>128874043.0</td>\n",
       "      <td>1.982678</td>\n",
       "      <td>63874043.0</td>\n",
       "      <td>0.982678</td>\n",
       "      <td>high</td>\n",
       "      <td>-1125957.0</td>\n",
       "      <td>no</td>\n",
       "    </tr>\n",
       "  </tbody>\n",
       "</table>\n",
       "</div>"
      ],
      "text/plain": [
       "     id release_date          movie  production_budget  domestic_gross  \\\n",
       "787  88     4-Aug-00  Space Cowboys         65000000.0      90454043.0   \n",
       "\n",
       "     worldwide_gross  gtbratio         net  ntbratio budgetcat  profitability  \\\n",
       "787      128874043.0  1.982678  63874043.0  0.982678      high     -1125957.0   \n",
       "\n",
       "    success  \n",
       "787      no  "
      ]
     },
     "execution_count": 57,
     "metadata": {},
     "output_type": "execute_result"
    }
   ],
   "source": [
    "highdf.sample(n=1)"
   ]
  },
  {
   "cell_type": "code",
   "execution_count": 78,
   "metadata": {},
   "outputs": [
    {
     "name": "stdout",
     "output_type": "stream",
     "text": [
      "budget:  64500000.0\n",
      "gross:  257762765.0\n"
     ]
    }
   ],
   "source": [
    "midtest1 = middf.sample(n=3)\n",
    "print(\"budget: \", midtest1['production_budget'].sum())\n",
    "print(\"gross: \", midtest1['worldwide_gross'].sum())"
   ]
  },
  {
   "cell_type": "code",
   "execution_count": 80,
   "metadata": {},
   "outputs": [
    {
     "name": "stdout",
     "output_type": "stream",
     "text": [
      "budget:  63617783.0\n",
      "gross:  242945307.0\n"
     ]
    }
   ],
   "source": [
    "lowtest1 = lowdf.sample(n=35)\n",
    "print(\"budget: \", lowtest1['production_budget'].sum())\n",
    "print(\"gross: \", lowtest1['worldwide_gross'].sum())"
   ]
  },
  {
   "cell_type": "markdown",
   "metadata": {},
   "source": [
    "Test 29"
   ]
  },
  {
   "cell_type": "code",
   "execution_count": 60,
   "metadata": {},
   "outputs": [
    {
     "data": {
      "text/html": [
       "<div>\n",
       "<style scoped>\n",
       "    .dataframe tbody tr th:only-of-type {\n",
       "        vertical-align: middle;\n",
       "    }\n",
       "\n",
       "    .dataframe tbody tr th {\n",
       "        vertical-align: top;\n",
       "    }\n",
       "\n",
       "    .dataframe thead th {\n",
       "        text-align: right;\n",
       "    }\n",
       "</style>\n",
       "<table border=\"1\" class=\"dataframe\">\n",
       "  <thead>\n",
       "    <tr style=\"text-align: right;\">\n",
       "      <th></th>\n",
       "      <th>id</th>\n",
       "      <th>release_date</th>\n",
       "      <th>movie</th>\n",
       "      <th>production_budget</th>\n",
       "      <th>domestic_gross</th>\n",
       "      <th>worldwide_gross</th>\n",
       "      <th>gtbratio</th>\n",
       "      <th>net</th>\n",
       "      <th>ntbratio</th>\n",
       "      <th>budgetcat</th>\n",
       "      <th>profitability</th>\n",
       "      <th>success</th>\n",
       "    </tr>\n",
       "  </thead>\n",
       "  <tbody>\n",
       "    <tr>\n",
       "      <th>821</th>\n",
       "      <td>22</td>\n",
       "      <td>14-Jul-06</td>\n",
       "      <td>Little Man</td>\n",
       "      <td>64000000.0</td>\n",
       "      <td>58636047.0</td>\n",
       "      <td>101636047.0</td>\n",
       "      <td>1.588063</td>\n",
       "      <td>37636047.0</td>\n",
       "      <td>0.588063</td>\n",
       "      <td>high</td>\n",
       "      <td>-26363953.0</td>\n",
       "      <td>no</td>\n",
       "    </tr>\n",
       "  </tbody>\n",
       "</table>\n",
       "</div>"
      ],
      "text/plain": [
       "     id release_date       movie  production_budget  domestic_gross  \\\n",
       "821  22    14-Jul-06  Little Man         64000000.0      58636047.0   \n",
       "\n",
       "     worldwide_gross  gtbratio         net  ntbratio budgetcat  profitability  \\\n",
       "821      101636047.0  1.588063  37636047.0  0.588063      high    -26363953.0   \n",
       "\n",
       "    success  \n",
       "821      no  "
      ]
     },
     "execution_count": 60,
     "metadata": {},
     "output_type": "execute_result"
    }
   ],
   "source": [
    "highdf.sample(n=1)"
   ]
  },
  {
   "cell_type": "code",
   "execution_count": 86,
   "metadata": {},
   "outputs": [
    {
     "name": "stdout",
     "output_type": "stream",
     "text": [
      "budget:  63500000.0\n",
      "gross:  359810031.0\n"
     ]
    }
   ],
   "source": [
    "midtest1 = middf.sample(n=4)\n",
    "print(\"budget: \", midtest1['production_budget'].sum())\n",
    "print(\"gross: \", midtest1['worldwide_gross'].sum())"
   ]
  },
  {
   "cell_type": "code",
   "execution_count": 92,
   "metadata": {},
   "outputs": [
    {
     "name": "stdout",
     "output_type": "stream",
     "text": [
      "budget:  68838000.0\n",
      "gross:  592764598.0\n"
     ]
    }
   ],
   "source": [
    "lowtest1 = lowdf.sample(n=40)\n",
    "print(\"budget: \", lowtest1['production_budget'].sum())\n",
    "print(\"gross: \", lowtest1['worldwide_gross'].sum())"
   ]
  },
  {
   "cell_type": "markdown",
   "metadata": {},
   "source": [
    "Test 30"
   ]
  },
  {
   "cell_type": "code",
   "execution_count": 63,
   "metadata": {},
   "outputs": [
    {
     "data": {
      "text/html": [
       "<div>\n",
       "<style scoped>\n",
       "    .dataframe tbody tr th:only-of-type {\n",
       "        vertical-align: middle;\n",
       "    }\n",
       "\n",
       "    .dataframe tbody tr th {\n",
       "        vertical-align: top;\n",
       "    }\n",
       "\n",
       "    .dataframe thead th {\n",
       "        text-align: right;\n",
       "    }\n",
       "</style>\n",
       "<table border=\"1\" class=\"dataframe\">\n",
       "  <thead>\n",
       "    <tr style=\"text-align: right;\">\n",
       "      <th></th>\n",
       "      <th>id</th>\n",
       "      <th>release_date</th>\n",
       "      <th>movie</th>\n",
       "      <th>production_budget</th>\n",
       "      <th>domestic_gross</th>\n",
       "      <th>worldwide_gross</th>\n",
       "      <th>gtbratio</th>\n",
       "      <th>net</th>\n",
       "      <th>ntbratio</th>\n",
       "      <th>budgetcat</th>\n",
       "      <th>profitability</th>\n",
       "      <th>success</th>\n",
       "    </tr>\n",
       "  </thead>\n",
       "  <tbody>\n",
       "    <tr>\n",
       "      <th>715</th>\n",
       "      <td>16</td>\n",
       "      <td>11-Dec-98</td>\n",
       "      <td>Star Trek: Insurrection</td>\n",
       "      <td>70000000.0</td>\n",
       "      <td>70187658.0</td>\n",
       "      <td>117800000.0</td>\n",
       "      <td>1.682857</td>\n",
       "      <td>47800000.0</td>\n",
       "      <td>0.682857</td>\n",
       "      <td>high</td>\n",
       "      <td>-22200000.0</td>\n",
       "      <td>no</td>\n",
       "    </tr>\n",
       "  </tbody>\n",
       "</table>\n",
       "</div>"
      ],
      "text/plain": [
       "     id release_date                    movie  production_budget  \\\n",
       "715  16    11-Dec-98  Star Trek: Insurrection         70000000.0   \n",
       "\n",
       "     domestic_gross  worldwide_gross  gtbratio         net  ntbratio  \\\n",
       "715      70187658.0      117800000.0  1.682857  47800000.0  0.682857   \n",
       "\n",
       "    budgetcat  profitability success  \n",
       "715      high    -22200000.0      no  "
      ]
     },
     "execution_count": 63,
     "metadata": {},
     "output_type": "execute_result"
    }
   ],
   "source": [
    "highdf.sample(n=1)"
   ]
  },
  {
   "cell_type": "code",
   "execution_count": 105,
   "metadata": {},
   "outputs": [
    {
     "name": "stdout",
     "output_type": "stream",
     "text": [
      "budget:  70400000.0\n",
      "gross:  198504622.0\n"
     ]
    }
   ],
   "source": [
    "midtest1 = middf.sample(n=4)\n",
    "print(\"budget: \", midtest1['production_budget'].sum())\n",
    "print(\"gross: \", midtest1['worldwide_gross'].sum())"
   ]
  },
  {
   "cell_type": "code",
   "execution_count": 112,
   "metadata": {},
   "outputs": [
    {
     "name": "stdout",
     "output_type": "stream",
     "text": [
      "budget:  71275000.0\n",
      "gross:  473465636.0\n"
     ]
    }
   ],
   "source": [
    "lowtest1 = lowdf.sample(n=40)\n",
    "print(\"budget: \", lowtest1['production_budget'].sum())\n",
    "print(\"gross: \", lowtest1['worldwide_gross'].sum())"
   ]
  }
 ],
 "metadata": {
  "kernelspec": {
   "display_name": "Python 3",
   "language": "python",
   "name": "python3"
  },
  "language_info": {
   "codemirror_mode": {
    "name": "ipython",
    "version": 3
   },
   "file_extension": ".py",
   "mimetype": "text/x-python",
   "name": "python",
   "nbconvert_exporter": "python",
   "pygments_lexer": "ipython3",
   "version": "3.8.5"
  }
 },
 "nbformat": 4,
 "nbformat_minor": 2
}
